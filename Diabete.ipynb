{
  "nbformat": 4,
  "nbformat_minor": 0,
  "metadata": {
    "colab": {
      "provenance": []
    },
    "kernelspec": {
      "name": "python3",
      "display_name": "Python 3"
    },
    "language_info": {
      "name": "python"
    }
  },
  "cells": [
    {
      "cell_type": "markdown",
      "source": [
        "**Diabete**\n",
        "\n",
        "---\n",
        "\n",
        "![picture](https://drive.google.com/file/d/1AEhU6ApEECrbiabAo5LMI1u0XFv6uTd0/view?usp=sharing)\n",
        "\n",
        "Diabetes refers to a collection of disorders that impair the body's use of blood sugar (glucose). Glucose is an essential energy source for the cells that comprise muscles and tissues. It is also the primary source of fuel for the brain.\n",
        "\n",
        "The primary cause of each form of diabetes differs. But regardless of the kind of diabetes, it may result in elevated blood sugar levels. A high blood sugar level might cause severe health complications."
      ],
      "metadata": {
        "id": "TB581mjq3Pox"
      }
    },
    {
      "cell_type": "markdown",
      "source": [
        "Heart disease, chronic kidney disease, nerve damage, and other issues with feet, dental health, eyesight, hearing, and mental health are common complications of diabetes."
      ],
      "metadata": {
        "id": "Trc6-fnD3PiX"
      }
    },
    {
      "cell_type": "markdown",
      "source": [
        "The earlier diabetes type 2 is diagnosed, the better. This may lessen the likelihood of a person developing life-threatening problems. Early detection may also identify those at greater risk for developing type 2 diabetes and assist them in delaying or preventing the disease."
      ],
      "metadata": {
        "id": "xWBd8HlJ4_As"
      }
    },
    {
      "cell_type": "markdown",
      "source": [
        "# Early Stage Diabetes Classifier\n",
        "\n",
        "The problem statement is that we would like to create a system that detects if a patient shows the signs and symptoms of early stage diabetes. The goal is to detect these at-risk patients as early as possible to begin treatment and avoid unwanted health complications.\n",
        "\n",
        "To address this problem, we’ll be using the open-source Early Stage Diabetes Risk Prediction Dataset. We’ll use data preprocessing techniques along with multiple machine learning models to create an adequate classification system. We’ll begin by exploring the data to better understand it."
      ],
      "metadata": {
        "id": "9wG_CPkW5EXV"
      }
    },
    {
      "cell_type": "code",
      "execution_count": 4,
      "metadata": {
        "id": "-aYCj1y02kyu"
      },
      "outputs": [],
      "source": [
        "import numpy as np\n",
        "import pandas as pd\n",
        "import matplotlib.pyplot as plt\n",
        "import seaborn as sns\n",
        "\n",
        "from sklearn.model_selection import train_test_split\n",
        "from sklearn.metrics import classification_report, confusion_matrix, precision_recall_fscore_support\n",
        "from sklearn.preprocessing import LabelEncoder\n",
        "from sklearn.preprocessing import OneHotEncoder\n",
        "\n",
        "from sklearn.svm import SVC\n",
        "from sklearn.ensemble import GradientBoostingClassifier"
      ]
    },
    {
      "cell_type": "markdown",
      "source": [
        "dataset is read into a pandas dataframe and the first few rows are examined."
      ],
      "metadata": {
        "id": "QR8U1fOC65Qu"
      }
    },
    {
      "cell_type": "code",
      "source": [
        "url = \"https://archive.ics.uci.edu/ml/machine-learning-databases/00529/diabetes_data_upload.csv\"\n",
        "df = pd.read_csv(url)\n",
        "df.head()"
      ],
      "metadata": {
        "colab": {
          "base_uri": "https://localhost:8080/",
          "height": 267
        },
        "id": "QCVmYMFX6tH8",
        "outputId": "2be14b94-74f5-44fb-a838-22270ad53665"
      },
      "execution_count": 5,
      "outputs": [
        {
          "output_type": "execute_result",
          "data": {
            "text/plain": [
              "   Age Gender Polyuria Polydipsia sudden weight loss weakness Polyphagia  \\\n",
              "0   40   Male       No        Yes                 No      Yes         No   \n",
              "1   58   Male       No         No                 No      Yes         No   \n",
              "2   41   Male      Yes         No                 No      Yes        Yes   \n",
              "3   45   Male       No         No                Yes      Yes        Yes   \n",
              "4   60   Male      Yes        Yes                Yes      Yes        Yes   \n",
              "\n",
              "  Genital thrush visual blurring Itching Irritability delayed healing  \\\n",
              "0             No              No     Yes           No             Yes   \n",
              "1             No             Yes      No           No              No   \n",
              "2             No              No     Yes           No             Yes   \n",
              "3            Yes              No     Yes           No             Yes   \n",
              "4             No             Yes     Yes          Yes             Yes   \n",
              "\n",
              "  partial paresis muscle stiffness Alopecia Obesity     class  \n",
              "0              No              Yes      Yes     Yes  Positive  \n",
              "1             Yes               No      Yes      No  Positive  \n",
              "2              No              Yes      Yes      No  Positive  \n",
              "3              No               No       No      No  Positive  \n",
              "4             Yes              Yes      Yes     Yes  Positive  "
            ],
            "text/html": [
              "\n",
              "  <div id=\"df-73090d89-2da0-49e9-977a-a57f9a2058cf\">\n",
              "    <div class=\"colab-df-container\">\n",
              "      <div>\n",
              "<style scoped>\n",
              "    .dataframe tbody tr th:only-of-type {\n",
              "        vertical-align: middle;\n",
              "    }\n",
              "\n",
              "    .dataframe tbody tr th {\n",
              "        vertical-align: top;\n",
              "    }\n",
              "\n",
              "    .dataframe thead th {\n",
              "        text-align: right;\n",
              "    }\n",
              "</style>\n",
              "<table border=\"1\" class=\"dataframe\">\n",
              "  <thead>\n",
              "    <tr style=\"text-align: right;\">\n",
              "      <th></th>\n",
              "      <th>Age</th>\n",
              "      <th>Gender</th>\n",
              "      <th>Polyuria</th>\n",
              "      <th>Polydipsia</th>\n",
              "      <th>sudden weight loss</th>\n",
              "      <th>weakness</th>\n",
              "      <th>Polyphagia</th>\n",
              "      <th>Genital thrush</th>\n",
              "      <th>visual blurring</th>\n",
              "      <th>Itching</th>\n",
              "      <th>Irritability</th>\n",
              "      <th>delayed healing</th>\n",
              "      <th>partial paresis</th>\n",
              "      <th>muscle stiffness</th>\n",
              "      <th>Alopecia</th>\n",
              "      <th>Obesity</th>\n",
              "      <th>class</th>\n",
              "    </tr>\n",
              "  </thead>\n",
              "  <tbody>\n",
              "    <tr>\n",
              "      <th>0</th>\n",
              "      <td>40</td>\n",
              "      <td>Male</td>\n",
              "      <td>No</td>\n",
              "      <td>Yes</td>\n",
              "      <td>No</td>\n",
              "      <td>Yes</td>\n",
              "      <td>No</td>\n",
              "      <td>No</td>\n",
              "      <td>No</td>\n",
              "      <td>Yes</td>\n",
              "      <td>No</td>\n",
              "      <td>Yes</td>\n",
              "      <td>No</td>\n",
              "      <td>Yes</td>\n",
              "      <td>Yes</td>\n",
              "      <td>Yes</td>\n",
              "      <td>Positive</td>\n",
              "    </tr>\n",
              "    <tr>\n",
              "      <th>1</th>\n",
              "      <td>58</td>\n",
              "      <td>Male</td>\n",
              "      <td>No</td>\n",
              "      <td>No</td>\n",
              "      <td>No</td>\n",
              "      <td>Yes</td>\n",
              "      <td>No</td>\n",
              "      <td>No</td>\n",
              "      <td>Yes</td>\n",
              "      <td>No</td>\n",
              "      <td>No</td>\n",
              "      <td>No</td>\n",
              "      <td>Yes</td>\n",
              "      <td>No</td>\n",
              "      <td>Yes</td>\n",
              "      <td>No</td>\n",
              "      <td>Positive</td>\n",
              "    </tr>\n",
              "    <tr>\n",
              "      <th>2</th>\n",
              "      <td>41</td>\n",
              "      <td>Male</td>\n",
              "      <td>Yes</td>\n",
              "      <td>No</td>\n",
              "      <td>No</td>\n",
              "      <td>Yes</td>\n",
              "      <td>Yes</td>\n",
              "      <td>No</td>\n",
              "      <td>No</td>\n",
              "      <td>Yes</td>\n",
              "      <td>No</td>\n",
              "      <td>Yes</td>\n",
              "      <td>No</td>\n",
              "      <td>Yes</td>\n",
              "      <td>Yes</td>\n",
              "      <td>No</td>\n",
              "      <td>Positive</td>\n",
              "    </tr>\n",
              "    <tr>\n",
              "      <th>3</th>\n",
              "      <td>45</td>\n",
              "      <td>Male</td>\n",
              "      <td>No</td>\n",
              "      <td>No</td>\n",
              "      <td>Yes</td>\n",
              "      <td>Yes</td>\n",
              "      <td>Yes</td>\n",
              "      <td>Yes</td>\n",
              "      <td>No</td>\n",
              "      <td>Yes</td>\n",
              "      <td>No</td>\n",
              "      <td>Yes</td>\n",
              "      <td>No</td>\n",
              "      <td>No</td>\n",
              "      <td>No</td>\n",
              "      <td>No</td>\n",
              "      <td>Positive</td>\n",
              "    </tr>\n",
              "    <tr>\n",
              "      <th>4</th>\n",
              "      <td>60</td>\n",
              "      <td>Male</td>\n",
              "      <td>Yes</td>\n",
              "      <td>Yes</td>\n",
              "      <td>Yes</td>\n",
              "      <td>Yes</td>\n",
              "      <td>Yes</td>\n",
              "      <td>No</td>\n",
              "      <td>Yes</td>\n",
              "      <td>Yes</td>\n",
              "      <td>Yes</td>\n",
              "      <td>Yes</td>\n",
              "      <td>Yes</td>\n",
              "      <td>Yes</td>\n",
              "      <td>Yes</td>\n",
              "      <td>Yes</td>\n",
              "      <td>Positive</td>\n",
              "    </tr>\n",
              "  </tbody>\n",
              "</table>\n",
              "</div>\n",
              "      <button class=\"colab-df-convert\" onclick=\"convertToInteractive('df-73090d89-2da0-49e9-977a-a57f9a2058cf')\"\n",
              "              title=\"Convert this dataframe to an interactive table.\"\n",
              "              style=\"display:none;\">\n",
              "        \n",
              "  <svg xmlns=\"http://www.w3.org/2000/svg\" height=\"24px\"viewBox=\"0 0 24 24\"\n",
              "       width=\"24px\">\n",
              "    <path d=\"M0 0h24v24H0V0z\" fill=\"none\"/>\n",
              "    <path d=\"M18.56 5.44l.94 2.06.94-2.06 2.06-.94-2.06-.94-.94-2.06-.94 2.06-2.06.94zm-11 1L8.5 8.5l.94-2.06 2.06-.94-2.06-.94L8.5 2.5l-.94 2.06-2.06.94zm10 10l.94 2.06.94-2.06 2.06-.94-2.06-.94-.94-2.06-.94 2.06-2.06.94z\"/><path d=\"M17.41 7.96l-1.37-1.37c-.4-.4-.92-.59-1.43-.59-.52 0-1.04.2-1.43.59L10.3 9.45l-7.72 7.72c-.78.78-.78 2.05 0 2.83L4 21.41c.39.39.9.59 1.41.59.51 0 1.02-.2 1.41-.59l7.78-7.78 2.81-2.81c.8-.78.8-2.07 0-2.86zM5.41 20L4 18.59l7.72-7.72 1.47 1.35L5.41 20z\"/>\n",
              "  </svg>\n",
              "      </button>\n",
              "      \n",
              "  <style>\n",
              "    .colab-df-container {\n",
              "      display:flex;\n",
              "      flex-wrap:wrap;\n",
              "      gap: 12px;\n",
              "    }\n",
              "\n",
              "    .colab-df-convert {\n",
              "      background-color: #E8F0FE;\n",
              "      border: none;\n",
              "      border-radius: 50%;\n",
              "      cursor: pointer;\n",
              "      display: none;\n",
              "      fill: #1967D2;\n",
              "      height: 32px;\n",
              "      padding: 0 0 0 0;\n",
              "      width: 32px;\n",
              "    }\n",
              "\n",
              "    .colab-df-convert:hover {\n",
              "      background-color: #E2EBFA;\n",
              "      box-shadow: 0px 1px 2px rgba(60, 64, 67, 0.3), 0px 1px 3px 1px rgba(60, 64, 67, 0.15);\n",
              "      fill: #174EA6;\n",
              "    }\n",
              "\n",
              "    [theme=dark] .colab-df-convert {\n",
              "      background-color: #3B4455;\n",
              "      fill: #D2E3FC;\n",
              "    }\n",
              "\n",
              "    [theme=dark] .colab-df-convert:hover {\n",
              "      background-color: #434B5C;\n",
              "      box-shadow: 0px 1px 3px 1px rgba(0, 0, 0, 0.15);\n",
              "      filter: drop-shadow(0px 1px 2px rgba(0, 0, 0, 0.3));\n",
              "      fill: #FFFFFF;\n",
              "    }\n",
              "  </style>\n",
              "\n",
              "      <script>\n",
              "        const buttonEl =\n",
              "          document.querySelector('#df-73090d89-2da0-49e9-977a-a57f9a2058cf button.colab-df-convert');\n",
              "        buttonEl.style.display =\n",
              "          google.colab.kernel.accessAllowed ? 'block' : 'none';\n",
              "\n",
              "        async function convertToInteractive(key) {\n",
              "          const element = document.querySelector('#df-73090d89-2da0-49e9-977a-a57f9a2058cf');\n",
              "          const dataTable =\n",
              "            await google.colab.kernel.invokeFunction('convertToInteractive',\n",
              "                                                     [key], {});\n",
              "          if (!dataTable) return;\n",
              "\n",
              "          const docLinkHtml = 'Like what you see? Visit the ' +\n",
              "            '<a target=\"_blank\" href=https://colab.research.google.com/notebooks/data_table.ipynb>data table notebook</a>'\n",
              "            + ' to learn more about interactive tables.';\n",
              "          element.innerHTML = '';\n",
              "          dataTable['output_type'] = 'display_data';\n",
              "          await google.colab.output.renderOutput(dataTable, element);\n",
              "          const docLink = document.createElement('div');\n",
              "          docLink.innerHTML = docLinkHtml;\n",
              "          element.appendChild(docLink);\n",
              "        }\n",
              "      </script>\n",
              "    </div>\n",
              "  </div>\n",
              "  "
            ]
          },
          "metadata": {},
          "execution_count": 5
        }
      ]
    },
    {
      "cell_type": "code",
      "source": [],
      "metadata": {
        "id": "4o6yee9r8gV1"
      },
      "execution_count": 5,
      "outputs": []
    },
    {
      "cell_type": "markdown",
      "metadata": {
        "id": "31Uo9fLOissJ"
      },
      "source": [
        "We can see above that we have one numerical column (age) along with a series of categorical columns relating to gender and exposure to medical conditions. It also contains a categorical column titled \"class\" which is positive or negative depending on if the patient is at risk for diabetes.\n",
        "\n",
        "The class column is our target column which we would like to predict.\n",
        "\n",
        "Now let's perform some exploratory data analysis."
      ]
    },
    {
      "cell_type": "markdown",
      "metadata": {
        "id": "BOefOKo_i28I"
      },
      "source": [
        "First print out the shape of the dataframe to get a sense for how large the dataset is. "
      ]
    },
    {
      "cell_type": "code",
      "metadata": {
        "colab": {
          "base_uri": "https://localhost:8080/"
        },
        "id": "7d_f5ETqfEt0",
        "outputId": "2cbedb07-67a1-42df-a331-b3df52b70a07"
      },
      "source": [
        "df.shape"
      ],
      "execution_count": 6,
      "outputs": [
        {
          "output_type": "execute_result",
          "data": {
            "text/plain": [
              "(520, 17)"
            ]
          },
          "metadata": {},
          "execution_count": 6
        }
      ]
    },
    {
      "cell_type": "markdown",
      "metadata": {
        "id": "8XTWgaI_jNhb"
      },
      "source": [
        "We see that there are 17 columns in total and 520 rows. "
      ]
    },
    {
      "cell_type": "markdown",
      "metadata": {
        "id": "PE1u6RFFjGtv"
      },
      "source": [
        "Let's look at some statistics for the numerical feature in our dataframe:\n"
      ]
    },
    {
      "cell_type": "code",
      "metadata": {
        "colab": {
          "base_uri": "https://localhost:8080/",
          "height": 81
        },
        "id": "rkVy97pnfJpw",
        "outputId": "87ed74b9-97c5-4b62-e43f-cf990d1d064c"
      },
      "source": [
        "df.describe().T"
      ],
      "execution_count": 7,
      "outputs": [
        {
          "output_type": "execute_result",
          "data": {
            "text/plain": [
              "     count       mean        std   min   25%   50%   75%   max\n",
              "Age  520.0  48.028846  12.151466  16.0  39.0  47.5  57.0  90.0"
            ],
            "text/html": [
              "\n",
              "  <div id=\"df-f644ad17-f380-4b92-8189-76f934d4838d\">\n",
              "    <div class=\"colab-df-container\">\n",
              "      <div>\n",
              "<style scoped>\n",
              "    .dataframe tbody tr th:only-of-type {\n",
              "        vertical-align: middle;\n",
              "    }\n",
              "\n",
              "    .dataframe tbody tr th {\n",
              "        vertical-align: top;\n",
              "    }\n",
              "\n",
              "    .dataframe thead th {\n",
              "        text-align: right;\n",
              "    }\n",
              "</style>\n",
              "<table border=\"1\" class=\"dataframe\">\n",
              "  <thead>\n",
              "    <tr style=\"text-align: right;\">\n",
              "      <th></th>\n",
              "      <th>count</th>\n",
              "      <th>mean</th>\n",
              "      <th>std</th>\n",
              "      <th>min</th>\n",
              "      <th>25%</th>\n",
              "      <th>50%</th>\n",
              "      <th>75%</th>\n",
              "      <th>max</th>\n",
              "    </tr>\n",
              "  </thead>\n",
              "  <tbody>\n",
              "    <tr>\n",
              "      <th>Age</th>\n",
              "      <td>520.0</td>\n",
              "      <td>48.028846</td>\n",
              "      <td>12.151466</td>\n",
              "      <td>16.0</td>\n",
              "      <td>39.0</td>\n",
              "      <td>47.5</td>\n",
              "      <td>57.0</td>\n",
              "      <td>90.0</td>\n",
              "    </tr>\n",
              "  </tbody>\n",
              "</table>\n",
              "</div>\n",
              "      <button class=\"colab-df-convert\" onclick=\"convertToInteractive('df-f644ad17-f380-4b92-8189-76f934d4838d')\"\n",
              "              title=\"Convert this dataframe to an interactive table.\"\n",
              "              style=\"display:none;\">\n",
              "        \n",
              "  <svg xmlns=\"http://www.w3.org/2000/svg\" height=\"24px\"viewBox=\"0 0 24 24\"\n",
              "       width=\"24px\">\n",
              "    <path d=\"M0 0h24v24H0V0z\" fill=\"none\"/>\n",
              "    <path d=\"M18.56 5.44l.94 2.06.94-2.06 2.06-.94-2.06-.94-.94-2.06-.94 2.06-2.06.94zm-11 1L8.5 8.5l.94-2.06 2.06-.94-2.06-.94L8.5 2.5l-.94 2.06-2.06.94zm10 10l.94 2.06.94-2.06 2.06-.94-2.06-.94-.94-2.06-.94 2.06-2.06.94z\"/><path d=\"M17.41 7.96l-1.37-1.37c-.4-.4-.92-.59-1.43-.59-.52 0-1.04.2-1.43.59L10.3 9.45l-7.72 7.72c-.78.78-.78 2.05 0 2.83L4 21.41c.39.39.9.59 1.41.59.51 0 1.02-.2 1.41-.59l7.78-7.78 2.81-2.81c.8-.78.8-2.07 0-2.86zM5.41 20L4 18.59l7.72-7.72 1.47 1.35L5.41 20z\"/>\n",
              "  </svg>\n",
              "      </button>\n",
              "      \n",
              "  <style>\n",
              "    .colab-df-container {\n",
              "      display:flex;\n",
              "      flex-wrap:wrap;\n",
              "      gap: 12px;\n",
              "    }\n",
              "\n",
              "    .colab-df-convert {\n",
              "      background-color: #E8F0FE;\n",
              "      border: none;\n",
              "      border-radius: 50%;\n",
              "      cursor: pointer;\n",
              "      display: none;\n",
              "      fill: #1967D2;\n",
              "      height: 32px;\n",
              "      padding: 0 0 0 0;\n",
              "      width: 32px;\n",
              "    }\n",
              "\n",
              "    .colab-df-convert:hover {\n",
              "      background-color: #E2EBFA;\n",
              "      box-shadow: 0px 1px 2px rgba(60, 64, 67, 0.3), 0px 1px 3px 1px rgba(60, 64, 67, 0.15);\n",
              "      fill: #174EA6;\n",
              "    }\n",
              "\n",
              "    [theme=dark] .colab-df-convert {\n",
              "      background-color: #3B4455;\n",
              "      fill: #D2E3FC;\n",
              "    }\n",
              "\n",
              "    [theme=dark] .colab-df-convert:hover {\n",
              "      background-color: #434B5C;\n",
              "      box-shadow: 0px 1px 3px 1px rgba(0, 0, 0, 0.15);\n",
              "      filter: drop-shadow(0px 1px 2px rgba(0, 0, 0, 0.3));\n",
              "      fill: #FFFFFF;\n",
              "    }\n",
              "  </style>\n",
              "\n",
              "      <script>\n",
              "        const buttonEl =\n",
              "          document.querySelector('#df-f644ad17-f380-4b92-8189-76f934d4838d button.colab-df-convert');\n",
              "        buttonEl.style.display =\n",
              "          google.colab.kernel.accessAllowed ? 'block' : 'none';\n",
              "\n",
              "        async function convertToInteractive(key) {\n",
              "          const element = document.querySelector('#df-f644ad17-f380-4b92-8189-76f934d4838d');\n",
              "          const dataTable =\n",
              "            await google.colab.kernel.invokeFunction('convertToInteractive',\n",
              "                                                     [key], {});\n",
              "          if (!dataTable) return;\n",
              "\n",
              "          const docLinkHtml = 'Like what you see? Visit the ' +\n",
              "            '<a target=\"_blank\" href=https://colab.research.google.com/notebooks/data_table.ipynb>data table notebook</a>'\n",
              "            + ' to learn more about interactive tables.';\n",
              "          element.innerHTML = '';\n",
              "          dataTable['output_type'] = 'display_data';\n",
              "          await google.colab.output.renderOutput(dataTable, element);\n",
              "          const docLink = document.createElement('div');\n",
              "          docLink.innerHTML = docLinkHtml;\n",
              "          element.appendChild(docLink);\n",
              "        }\n",
              "      </script>\n",
              "    </div>\n",
              "  </div>\n",
              "  "
            ]
          },
          "metadata": {},
          "execution_count": 7
        }
      ]
    },
    {
      "cell_type": "markdown",
      "metadata": {
        "id": "Asca0pYXjTck"
      },
      "source": [
        "We see that the ages range from a minimum of 16 years old to a maxium of 90 years old. \n",
        "\n",
        "We also see that the average age is approximately 48 years old. "
      ]
    },
    {
      "cell_type": "markdown",
      "metadata": {
        "id": "DUy18XFejgdh"
      },
      "source": [
        "Next let's look at our categorical features:"
      ]
    },
    {
      "cell_type": "code",
      "metadata": {
        "colab": {
          "base_uri": "https://localhost:8080/",
          "height": 236
        },
        "id": "63Sj6BelfUqH",
        "outputId": "2d9f41b9-65ae-4c48-b73f-fac91ccf7abf"
      },
      "source": [
        "df.iloc[:,1:].astype('object').describe()"
      ],
      "execution_count": 8,
      "outputs": [
        {
          "output_type": "execute_result",
          "data": {
            "text/plain": [
              "       Gender Polyuria Polydipsia sudden weight loss weakness Polyphagia  \\\n",
              "count     520      520        520                520      520        520   \n",
              "unique      2        2          2                  2        2          2   \n",
              "top      Male       No         No                 No      Yes         No   \n",
              "freq      328      262        287                303      305        283   \n",
              "\n",
              "       Genital thrush visual blurring Itching Irritability delayed healing  \\\n",
              "count             520             520     520          520             520   \n",
              "unique              2               2       2            2               2   \n",
              "top                No              No      No           No              No   \n",
              "freq              404             287     267          394             281   \n",
              "\n",
              "       partial paresis muscle stiffness Alopecia Obesity     class  \n",
              "count              520              520      520     520       520  \n",
              "unique               2                2        2       2         2  \n",
              "top                 No               No       No      No  Positive  \n",
              "freq               296              325      341     432       320  "
            ],
            "text/html": [
              "\n",
              "  <div id=\"df-ed631d1a-54fb-4a48-87a0-4b27248b6367\">\n",
              "    <div class=\"colab-df-container\">\n",
              "      <div>\n",
              "<style scoped>\n",
              "    .dataframe tbody tr th:only-of-type {\n",
              "        vertical-align: middle;\n",
              "    }\n",
              "\n",
              "    .dataframe tbody tr th {\n",
              "        vertical-align: top;\n",
              "    }\n",
              "\n",
              "    .dataframe thead th {\n",
              "        text-align: right;\n",
              "    }\n",
              "</style>\n",
              "<table border=\"1\" class=\"dataframe\">\n",
              "  <thead>\n",
              "    <tr style=\"text-align: right;\">\n",
              "      <th></th>\n",
              "      <th>Gender</th>\n",
              "      <th>Polyuria</th>\n",
              "      <th>Polydipsia</th>\n",
              "      <th>sudden weight loss</th>\n",
              "      <th>weakness</th>\n",
              "      <th>Polyphagia</th>\n",
              "      <th>Genital thrush</th>\n",
              "      <th>visual blurring</th>\n",
              "      <th>Itching</th>\n",
              "      <th>Irritability</th>\n",
              "      <th>delayed healing</th>\n",
              "      <th>partial paresis</th>\n",
              "      <th>muscle stiffness</th>\n",
              "      <th>Alopecia</th>\n",
              "      <th>Obesity</th>\n",
              "      <th>class</th>\n",
              "    </tr>\n",
              "  </thead>\n",
              "  <tbody>\n",
              "    <tr>\n",
              "      <th>count</th>\n",
              "      <td>520</td>\n",
              "      <td>520</td>\n",
              "      <td>520</td>\n",
              "      <td>520</td>\n",
              "      <td>520</td>\n",
              "      <td>520</td>\n",
              "      <td>520</td>\n",
              "      <td>520</td>\n",
              "      <td>520</td>\n",
              "      <td>520</td>\n",
              "      <td>520</td>\n",
              "      <td>520</td>\n",
              "      <td>520</td>\n",
              "      <td>520</td>\n",
              "      <td>520</td>\n",
              "      <td>520</td>\n",
              "    </tr>\n",
              "    <tr>\n",
              "      <th>unique</th>\n",
              "      <td>2</td>\n",
              "      <td>2</td>\n",
              "      <td>2</td>\n",
              "      <td>2</td>\n",
              "      <td>2</td>\n",
              "      <td>2</td>\n",
              "      <td>2</td>\n",
              "      <td>2</td>\n",
              "      <td>2</td>\n",
              "      <td>2</td>\n",
              "      <td>2</td>\n",
              "      <td>2</td>\n",
              "      <td>2</td>\n",
              "      <td>2</td>\n",
              "      <td>2</td>\n",
              "      <td>2</td>\n",
              "    </tr>\n",
              "    <tr>\n",
              "      <th>top</th>\n",
              "      <td>Male</td>\n",
              "      <td>No</td>\n",
              "      <td>No</td>\n",
              "      <td>No</td>\n",
              "      <td>Yes</td>\n",
              "      <td>No</td>\n",
              "      <td>No</td>\n",
              "      <td>No</td>\n",
              "      <td>No</td>\n",
              "      <td>No</td>\n",
              "      <td>No</td>\n",
              "      <td>No</td>\n",
              "      <td>No</td>\n",
              "      <td>No</td>\n",
              "      <td>No</td>\n",
              "      <td>Positive</td>\n",
              "    </tr>\n",
              "    <tr>\n",
              "      <th>freq</th>\n",
              "      <td>328</td>\n",
              "      <td>262</td>\n",
              "      <td>287</td>\n",
              "      <td>303</td>\n",
              "      <td>305</td>\n",
              "      <td>283</td>\n",
              "      <td>404</td>\n",
              "      <td>287</td>\n",
              "      <td>267</td>\n",
              "      <td>394</td>\n",
              "      <td>281</td>\n",
              "      <td>296</td>\n",
              "      <td>325</td>\n",
              "      <td>341</td>\n",
              "      <td>432</td>\n",
              "      <td>320</td>\n",
              "    </tr>\n",
              "  </tbody>\n",
              "</table>\n",
              "</div>\n",
              "      <button class=\"colab-df-convert\" onclick=\"convertToInteractive('df-ed631d1a-54fb-4a48-87a0-4b27248b6367')\"\n",
              "              title=\"Convert this dataframe to an interactive table.\"\n",
              "              style=\"display:none;\">\n",
              "        \n",
              "  <svg xmlns=\"http://www.w3.org/2000/svg\" height=\"24px\"viewBox=\"0 0 24 24\"\n",
              "       width=\"24px\">\n",
              "    <path d=\"M0 0h24v24H0V0z\" fill=\"none\"/>\n",
              "    <path d=\"M18.56 5.44l.94 2.06.94-2.06 2.06-.94-2.06-.94-.94-2.06-.94 2.06-2.06.94zm-11 1L8.5 8.5l.94-2.06 2.06-.94-2.06-.94L8.5 2.5l-.94 2.06-2.06.94zm10 10l.94 2.06.94-2.06 2.06-.94-2.06-.94-.94-2.06-.94 2.06-2.06.94z\"/><path d=\"M17.41 7.96l-1.37-1.37c-.4-.4-.92-.59-1.43-.59-.52 0-1.04.2-1.43.59L10.3 9.45l-7.72 7.72c-.78.78-.78 2.05 0 2.83L4 21.41c.39.39.9.59 1.41.59.51 0 1.02-.2 1.41-.59l7.78-7.78 2.81-2.81c.8-.78.8-2.07 0-2.86zM5.41 20L4 18.59l7.72-7.72 1.47 1.35L5.41 20z\"/>\n",
              "  </svg>\n",
              "      </button>\n",
              "      \n",
              "  <style>\n",
              "    .colab-df-container {\n",
              "      display:flex;\n",
              "      flex-wrap:wrap;\n",
              "      gap: 12px;\n",
              "    }\n",
              "\n",
              "    .colab-df-convert {\n",
              "      background-color: #E8F0FE;\n",
              "      border: none;\n",
              "      border-radius: 50%;\n",
              "      cursor: pointer;\n",
              "      display: none;\n",
              "      fill: #1967D2;\n",
              "      height: 32px;\n",
              "      padding: 0 0 0 0;\n",
              "      width: 32px;\n",
              "    }\n",
              "\n",
              "    .colab-df-convert:hover {\n",
              "      background-color: #E2EBFA;\n",
              "      box-shadow: 0px 1px 2px rgba(60, 64, 67, 0.3), 0px 1px 3px 1px rgba(60, 64, 67, 0.15);\n",
              "      fill: #174EA6;\n",
              "    }\n",
              "\n",
              "    [theme=dark] .colab-df-convert {\n",
              "      background-color: #3B4455;\n",
              "      fill: #D2E3FC;\n",
              "    }\n",
              "\n",
              "    [theme=dark] .colab-df-convert:hover {\n",
              "      background-color: #434B5C;\n",
              "      box-shadow: 0px 1px 3px 1px rgba(0, 0, 0, 0.15);\n",
              "      filter: drop-shadow(0px 1px 2px rgba(0, 0, 0, 0.3));\n",
              "      fill: #FFFFFF;\n",
              "    }\n",
              "  </style>\n",
              "\n",
              "      <script>\n",
              "        const buttonEl =\n",
              "          document.querySelector('#df-ed631d1a-54fb-4a48-87a0-4b27248b6367 button.colab-df-convert');\n",
              "        buttonEl.style.display =\n",
              "          google.colab.kernel.accessAllowed ? 'block' : 'none';\n",
              "\n",
              "        async function convertToInteractive(key) {\n",
              "          const element = document.querySelector('#df-ed631d1a-54fb-4a48-87a0-4b27248b6367');\n",
              "          const dataTable =\n",
              "            await google.colab.kernel.invokeFunction('convertToInteractive',\n",
              "                                                     [key], {});\n",
              "          if (!dataTable) return;\n",
              "\n",
              "          const docLinkHtml = 'Like what you see? Visit the ' +\n",
              "            '<a target=\"_blank\" href=https://colab.research.google.com/notebooks/data_table.ipynb>data table notebook</a>'\n",
              "            + ' to learn more about interactive tables.';\n",
              "          element.innerHTML = '';\n",
              "          dataTable['output_type'] = 'display_data';\n",
              "          await google.colab.output.renderOutput(dataTable, element);\n",
              "          const docLink = document.createElement('div');\n",
              "          docLink.innerHTML = docLinkHtml;\n",
              "          element.appendChild(docLink);\n",
              "        }\n",
              "      </script>\n",
              "    </div>\n",
              "  </div>\n",
              "  "
            ]
          },
          "metadata": {},
          "execution_count": 8
        }
      ]
    },
    {
      "cell_type": "markdown",
      "metadata": {
        "id": "ViYTqtUSjlu7"
      },
      "source": [
        "We see that all of our categorical features only have 2 unique values. \n",
        "\n",
        "Interesting to note is that there are more males than females in this dataset. \n",
        "\n",
        "There is also more positive samples in this dataset."
      ]
    },
    {
      "cell_type": "markdown",
      "metadata": {
        "id": "CWL0m7UYjuYo"
      },
      "source": [
        "Let's look at the the datatypes in our dataframe as well:\n"
      ]
    },
    {
      "cell_type": "code",
      "metadata": {
        "colab": {
          "base_uri": "https://localhost:8080/"
        },
        "id": "59PnmdR-gn-K",
        "outputId": "d6515088-cc6d-4a5b-e934-c7540023d442"
      },
      "source": [
        "df.dtypes"
      ],
      "execution_count": 9,
      "outputs": [
        {
          "output_type": "execute_result",
          "data": {
            "text/plain": [
              "Age                    int64\n",
              "Gender                object\n",
              "Polyuria              object\n",
              "Polydipsia            object\n",
              "sudden weight loss    object\n",
              "weakness              object\n",
              "Polyphagia            object\n",
              "Genital thrush        object\n",
              "visual blurring       object\n",
              "Itching               object\n",
              "Irritability          object\n",
              "delayed healing       object\n",
              "partial paresis       object\n",
              "muscle stiffness      object\n",
              "Alopecia              object\n",
              "Obesity               object\n",
              "class                 object\n",
              "dtype: object"
            ]
          },
          "metadata": {},
          "execution_count": 9
        }
      ]
    },
    {
      "cell_type": "markdown",
      "metadata": {
        "id": "BFBmR4FzjyHT"
      },
      "source": [
        "This aligns with what we observed earlier (1 numerical column, rest are categorical)."
      ]
    },
    {
      "cell_type": "markdown",
      "metadata": {
        "id": "rYcDROLLj1an"
      },
      "source": [
        "Let's also check for missing values:"
      ]
    },
    {
      "cell_type": "code",
      "metadata": {
        "colab": {
          "base_uri": "https://localhost:8080/"
        },
        "id": "aTqydpnKiWZj",
        "outputId": "ebfabd39-f9bc-4db7-8c6d-6734ff33fb98"
      },
      "source": [
        "df.isnull().sum()"
      ],
      "execution_count": 10,
      "outputs": [
        {
          "output_type": "execute_result",
          "data": {
            "text/plain": [
              "Age                   0\n",
              "Gender                0\n",
              "Polyuria              0\n",
              "Polydipsia            0\n",
              "sudden weight loss    0\n",
              "weakness              0\n",
              "Polyphagia            0\n",
              "Genital thrush        0\n",
              "visual blurring       0\n",
              "Itching               0\n",
              "Irritability          0\n",
              "delayed healing       0\n",
              "partial paresis       0\n",
              "muscle stiffness      0\n",
              "Alopecia              0\n",
              "Obesity               0\n",
              "class                 0\n",
              "dtype: int64"
            ]
          },
          "metadata": {},
          "execution_count": 10
        }
      ]
    },
    {
      "cell_type": "markdown",
      "metadata": {
        "id": "Sym_R6ffj46e"
      },
      "source": [
        "We don't have any missing data in this dataset. "
      ]
    },
    {
      "cell_type": "markdown",
      "metadata": {
        "id": "cPHlTHkHkH4I"
      },
      "source": [
        "Let's plot some charts to better understand the data. We'll start by looking at the gender distribution in this dataset:"
      ]
    },
    {
      "cell_type": "code",
      "metadata": {
        "id": "AKwmC8eAi2Xv",
        "colab": {
          "base_uri": "https://localhost:8080/",
          "height": 248
        },
        "outputId": "e8fbcd42-8e8f-4665-a9b8-8aed756a728c"
      },
      "source": [
        "labels = ['Male', 'Female']\n",
        "sizes = [df['Gender'].value_counts()[0],\n",
        "         df['Gender'].value_counts()[1]\n",
        "        ]\n",
        "\n",
        "fig1, ax1 = plt.subplots()\n",
        "ax1.pie(sizes, labels=labels, autopct='%1.1f%%', shadow=True)\n",
        "ax1.axis('equal')\n",
        "plt.show()"
      ],
      "execution_count": 11,
      "outputs": [
        {
          "output_type": "display_data",
          "data": {
            "text/plain": [
              "<Figure size 432x288 with 1 Axes>"
            ],
            "image/png": "[encoded data removed]"
          },
          "metadata": {}
        }
      ]
    },
    {
      "cell_type": "markdown",
      "metadata": {
        "id": "tfEn2gCOkNga"
      },
      "source": [
        "Here we see that there are more males in this dataset than females. This could potentially indicate males are more at risk of early stage diabetes but this is not necessarily guaranteed. It could also depend on the availability of participants during data collection. "
      ]
    },
    {
      "cell_type": "markdown",
      "metadata": {
        "id": "S4QvkiE7kWst"
      },
      "source": [
        "But how does this correspond to positivity rate for each gender? Let's take a look at and see how many positive/negative cases there are for each gender:\n"
      ]
    },
    {
      "cell_type": "code",
      "metadata": {
        "id": "hjDS27Fekqrw",
        "colab": {
          "base_uri": "https://localhost:8080/",
          "height": 382
        },
        "outputId": "4c7b7227-d1ab-4da3-b81f-54245987faca"
      },
      "source": [
        "gender_dist = df.groupby(['Gender', 'class']).size()\n",
        "gender_dist.plot(kind='bar')"
      ],
      "execution_count": 12,
      "outputs": [
        {
          "output_type": "execute_result",
          "data": {
            "text/plain": [
              "<matplotlib.axes._subplots.AxesSubplot at 0x7f8e8b732a90>"
            ]
          },
          "metadata": {},
          "execution_count": 12
        },
        {
          "output_type": "display_data",
          "data": {
            "text/plain": [
              "<Figure size 432x288 with 1 Axes>"
            ],
            "image/png": "[encoded data removed]"
          },
          "metadata": {
            "needs_background": "light"
          }
        }
      ]
    },
    {
      "cell_type": "code",
      "metadata": {
        "colab": {
          "base_uri": "https://localhost:8080/"
        },
        "id": "9t_hKVIcoSTl",
        "outputId": "993a5472-81fc-4666-f7ea-b47cd5876318"
      },
      "source": [
        "gender_dist"
      ],
      "execution_count": 13,
      "outputs": [
        {
          "output_type": "execute_result",
          "data": {
            "text/plain": [
              "Gender  class   \n",
              "Female  Negative     19\n",
              "        Positive    173\n",
              "Male    Negative    181\n",
              "        Positive    147\n",
              "dtype: int64"
            ]
          },
          "metadata": {},
          "execution_count": 13
        }
      ]
    },
    {
      "cell_type": "code",
      "metadata": {
        "colab": {
          "base_uri": "https://localhost:8080/"
        },
        "id": "-mFvLyGDqLqf",
        "outputId": "e3aac3d2-6fb8-4508-96f5-50ed7513986e"
      },
      "source": [
        "print(f'What percentage of males are positive: {round(gender_dist[3]/(gender_dist[3]+gender_dist[2])*100)}%')\n",
        "print(f'What percentage of females are positive: {round(gender_dist[1]/(gender_dist[1]+gender_dist[0])*100)}%')"
      ],
      "execution_count": 14,
      "outputs": [
        {
          "output_type": "stream",
          "name": "stdout",
          "text": [
            "What percentage of males are positive: 45%\n",
            "What percentage of females are positive: 90%\n"
          ]
        }
      ]
    },
    {
      "cell_type": "markdown",
      "metadata": {
        "id": "lClgHFRlkeCv"
      },
      "source": [
        "Here we see that just under half of the males are positive while for females there is an imbalance in number of positive vs negative cases. \n",
        "\n",
        "This imbalance could potentially affect the performance of our classifiers so we will need to keep this in mind. "
      ]
    },
    {
      "cell_type": "markdown",
      "metadata": {
        "id": "CHJAGD71koPC"
      },
      "source": [
        "Now let's take a look at relation between age and the target class:"
      ]
    },
    {
      "cell_type": "code",
      "metadata": {
        "colab": {
          "base_uri": "https://localhost:8080/",
          "height": 295
        },
        "id": "KudgKojTrrDx",
        "outputId": "9c19f14b-64f3-46f4-a5f1-e4a627d017c0"
      },
      "source": [
        "age_sub_DF = df.loc[:, ['Age', 'class']]\n",
        "age_16_29 = age_sub_DF.Age[(df.Age >=16) & (df.Age<=29) & (df['class']=='Positive')]\n",
        "age_30_44 = age_sub_DF.Age[(df.Age >=30) & (df.Age<=44) & (df['class']=='Positive')]\n",
        "age_45_59 = age_sub_DF.Age[(df.Age >=45) & (df.Age<=59) & (df['class']=='Positive')]\n",
        "age_60_74 = age_sub_DF.Age[(df.Age >=60) & (df.Age<=74) & (df['class']=='Positive')]\n",
        "age_75_90 = age_sub_DF.Age[(df.Age >=75) & (df.Age<=90) & (df['class']=='Positive')]\n",
        "\n",
        "age_array = [age_16_29, age_30_44, age_45_59, age_60_74, age_75_90]\n",
        "\n",
        "plt.figure(figsize=(12,4))\n",
        "sns.barplot(x=[\"16-29\", \"30-44\", \"45-59\", \"60-74\", \"75-90\"], y = [len(age_bin.values) for age_bin in age_array])\n",
        "plt.title(\"Number of Positive Cases vs. Age Group\")\n",
        "plt.xlabel(\"Age\")\n",
        "plt.ylabel(\"Number of Positive Cases\")\n",
        "plt.show()"
      ],
      "execution_count": 15,
      "outputs": [
        {
          "output_type": "display_data",
          "data": {
            "text/plain": [
              "<Figure size 864x288 with 1 Axes>"
            ],
            "image/png": "[encoded data removed]"
          },
          "metadata": {
            "needs_background": "light"
          }
        }
      ]
    },
    {
      "cell_type": "markdown",
      "metadata": {
        "id": "vcYb2P_Xkq7r"
      },
      "source": [
        "Here we see that middle aged patients had the highest frequency of testing positive for early stage diabetes among all other age groups."
      ]
    },
    {
      "cell_type": "markdown",
      "metadata": {
        "id": "FggUUcX_kuWi"
      },
      "source": [
        "Let's also take a look at what the age distribution for each gender is for the participants in the dataset:"
      ]
    },
    {
      "cell_type": "code",
      "metadata": {
        "colab": {
          "base_uri": "https://localhost:8080/",
          "height": 297
        },
        "id": "jSFIq9FurrAY",
        "outputId": "4ba5ae28-757d-414d-d2fc-26de882e2bd0"
      },
      "source": [
        "sns.boxplot(x ='Gender', y ='Age', data = df)"
      ],
      "execution_count": 16,
      "outputs": [
        {
          "output_type": "execute_result",
          "data": {
            "text/plain": [
              "<matplotlib.axes._subplots.AxesSubplot at 0x7f8e8b65f810>"
            ]
          },
          "metadata": {},
          "execution_count": 16
        },
        {
          "output_type": "display_data",
          "data": {
            "text/plain": [
              "<Figure size 432x288 with 1 Axes>"
            ],
            "image/png": "[encoded data removed]"
          },
          "metadata": {
            "needs_background": "light"
          }
        }
      ]
    },
    {
      "cell_type": "markdown",
      "metadata": {
        "id": "Cai1WJJokxvk"
      },
      "source": [
        "Although we saw earlier that the maximum age was 90 and minimum age was 16, we see that a majority of the participants in this study are approximately between the ages of 40 and 60, regardless of gender. "
      ]
    },
    {
      "cell_type": "markdown",
      "metadata": {
        "id": "_ZMJY0P9k5Kj"
      },
      "source": [
        "Now let's take a look at some of the medical conditions and how it relates to the target. For instance, we can take a look at the 'weakness' column and compare it against the target:"
      ]
    },
    {
      "cell_type": "code",
      "metadata": {
        "colab": {
          "base_uri": "https://localhost:8080/",
          "height": 387
        },
        "id": "Ez2SgWWjR2cR",
        "outputId": "d04cfe84-dda0-416b-cd36-e72244703387"
      },
      "source": [
        "sns.catplot(y=\"weakness\", hue=\"class\", kind=\"count\",\n",
        "            palette=\"pastel\", edgecolor=\".6\",\n",
        "            data=df)"
      ],
      "execution_count": 17,
      "outputs": [
        {
          "output_type": "execute_result",
          "data": {
            "text/plain": [
              "<seaborn.axisgrid.FacetGrid at 0x7f8e8b5779d0>"
            ]
          },
          "metadata": {},
          "execution_count": 17
        },
        {
          "output_type": "display_data",
          "data": {
            "text/plain": [
              "<Figure size 440.875x360 with 1 Axes>"
            ],
            "image/png": "[encoded data removed]"
          },
          "metadata": {
            "needs_background": "light"
          }
        }
      ]
    },
    {
      "cell_type": "markdown",
      "metadata": {
        "id": "sJ5dKHJElBSE"
      },
      "source": [
        "We see that there is a significant number of participants who tested positive while also reporting that they experienced weakness as a symptom. This indicates that this might be a useful feature to use in our model as it may be a warning signal for early stage diabetes. "
      ]
    },
    {
      "cell_type": "markdown",
      "source": [
        "# Data cleaning/pre-processing"
      ],
      "metadata": {
        "id": "nvYOGprq8x4_"
      }
    },
    {
      "cell_type": "markdown",
      "metadata": {
        "id": "yGcoqWC9lYcO"
      },
      "source": [
        "We saw earlier that there are no missing values in our dataset. However there is some pre-processing we need to do before we can begin training models. Currently most of our data is in categorical form but we need to convert this to numerical form in order for the data to be compatible with the models\n",
        "we plan to use. The categorical features are nominal and since the number of categories per feature is low (2 categories) we can use one-hot encoding. "
      ]
    },
    {
      "cell_type": "markdown",
      "metadata": {
        "id": "VAcyoDIulmzr"
      },
      "source": [
        "First we need to separate the target from the data:"
      ]
    },
    {
      "cell_type": "code",
      "metadata": {
        "id": "3FgHwi7eUxGw"
      },
      "source": [
        "X = df.drop('class', axis=1)\n",
        "y = df['class']"
      ],
      "execution_count": 18,
      "outputs": []
    },
    {
      "cell_type": "markdown",
      "metadata": {
        "id": "chF0kCailrB5"
      },
      "source": [
        "Then we need to split our dataset into training and testing sets in order to avoid any potential data leakage:"
      ]
    },
    {
      "cell_type": "code",
      "metadata": {
        "id": "pspAUxXdVPSX"
      },
      "source": [
        "X_train, X_test, y_train, y_test = train_test_split(X, y, test_size=0.3, random_state=0)"
      ],
      "execution_count": 19,
      "outputs": []
    },
    {
      "cell_type": "markdown",
      "metadata": {
        "id": "JCb70TK1luhD"
      },
      "source": [
        "Since our data contains a mix of numerical and categorical data we'll need to deal with these features separately:"
      ]
    },
    {
      "cell_type": "code",
      "source": [
        "# Store which columns are categorical\n",
        "categorical_cols = X_train.columns[X_train.columns !='Age']\n",
        "\n",
        "# Create one-hot encoder\n",
        "one_hot_encoder = OneHotEncoder(sparse=False)\n",
        "\n",
        "# Fit and transform the data using the one-hot encoder\n",
        "X_train_cat = pd.DataFrame(one_hot_encoder.fit_transform(X_train[categorical_cols]))\n",
        "X_test_cat  = pd.DataFrame(one_hot_encoder.transform(X_test[categorical_cols]))\n",
        "\n",
        "# Since the index was removed by the encoder, we need to put it back\n",
        "X_train_cat.index = X_train.index\n",
        "X_test_cat.index  = X_test.index\n",
        "\n",
        "# Extract the numerical columns\n",
        "X_train_num = X_train[['Age']]\n",
        "X_test_num = X_test[['Age']]\n",
        "\n",
        "# Combine the numerical and one-hot-encoded columns \n",
        "X_train_OH = pd.concat([X_train_num, X_train_cat], axis=1)\n",
        "X_test_OH = pd.concat([X_test_num, X_test_cat], axis=1)"
      ],
      "metadata": {
        "id": "WwGsF3RM9Qk3"
      },
      "execution_count": 20,
      "outputs": []
    },
    {
      "cell_type": "code",
      "source": [
        "X_train_OH.head()"
      ],
      "metadata": {
        "colab": {
          "base_uri": "https://localhost:8080/",
          "height": 235
        },
        "id": "Igu6k7tr9SzX",
        "outputId": "c0aaab06-4462-4d95-ce7f-37c3a3a7c4b5"
      },
      "execution_count": 21,
      "outputs": [
        {
          "output_type": "execute_result",
          "data": {
            "text/plain": [
              "     Age    0    1    2    3    4    5    6    7    8  ...   20   21   22  \\\n",
              "457   48  1.0  0.0  0.0  1.0  0.0  1.0  0.0  1.0  0.0  ...  0.0  1.0  0.0   \n",
              "429   58  0.0  1.0  0.0  1.0  0.0  1.0  0.0  1.0  0.0  ...  0.0  1.0  0.0   \n",
              "394   59  1.0  0.0  1.0  0.0  1.0  0.0  1.0  0.0  0.0  ...  0.0  1.0  1.0   \n",
              "5     55  0.0  1.0  0.0  1.0  0.0  1.0  1.0  0.0  0.0  ...  0.0  1.0  1.0   \n",
              "141   62  0.0  1.0  0.0  1.0  0.0  1.0  1.0  0.0  1.0  ...  0.0  1.0  0.0   \n",
              "\n",
              "      23   24   25   26   27   28   29  \n",
              "457  1.0  0.0  1.0  1.0  0.0  1.0  0.0  \n",
              "429  1.0  0.0  1.0  1.0  0.0  0.0  1.0  \n",
              "394  0.0  0.0  1.0  0.0  1.0  0.0  1.0  \n",
              "5    0.0  0.0  1.0  0.0  1.0  0.0  1.0  \n",
              "141  1.0  1.0  0.0  0.0  1.0  1.0  0.0  \n",
              "\n",
              "[5 rows x 31 columns]"
            ],
            "text/html": [
              "\n",
              "  <div id=\"df-4c163a13-0069-490a-81fd-b88d8bfb2c5e\">\n",
              "    <div class=\"colab-df-container\">\n",
              "      <div>\n",
              "<style scoped>\n",
              "    .dataframe tbody tr th:only-of-type {\n",
              "        vertical-align: middle;\n",
              "    }\n",
              "\n",
              "    .dataframe tbody tr th {\n",
              "        vertical-align: top;\n",
              "    }\n",
              "\n",
              "    .dataframe thead th {\n",
              "        text-align: right;\n",
              "    }\n",
              "</style>\n",
              "<table border=\"1\" class=\"dataframe\">\n",
              "  <thead>\n",
              "    <tr style=\"text-align: right;\">\n",
              "      <th></th>\n",
              "      <th>Age</th>\n",
              "      <th>0</th>\n",
              "      <th>1</th>\n",
              "      <th>2</th>\n",
              "      <th>3</th>\n",
              "      <th>4</th>\n",
              "      <th>5</th>\n",
              "      <th>6</th>\n",
              "      <th>7</th>\n",
              "      <th>8</th>\n",
              "      <th>...</th>\n",
              "      <th>20</th>\n",
              "      <th>21</th>\n",
              "      <th>22</th>\n",
              "      <th>23</th>\n",
              "      <th>24</th>\n",
              "      <th>25</th>\n",
              "      <th>26</th>\n",
              "      <th>27</th>\n",
              "      <th>28</th>\n",
              "      <th>29</th>\n",
              "    </tr>\n",
              "  </thead>\n",
              "  <tbody>\n",
              "    <tr>\n",
              "      <th>457</th>\n",
              "      <td>48</td>\n",
              "      <td>1.0</td>\n",
              "      <td>0.0</td>\n",
              "      <td>0.0</td>\n",
              "      <td>1.0</td>\n",
              "      <td>0.0</td>\n",
              "      <td>1.0</td>\n",
              "      <td>0.0</td>\n",
              "      <td>1.0</td>\n",
              "      <td>0.0</td>\n",
              "      <td>...</td>\n",
              "      <td>0.0</td>\n",
              "      <td>1.0</td>\n",
              "      <td>0.0</td>\n",
              "      <td>1.0</td>\n",
              "      <td>0.0</td>\n",
              "      <td>1.0</td>\n",
              "      <td>1.0</td>\n",
              "      <td>0.0</td>\n",
              "      <td>1.0</td>\n",
              "      <td>0.0</td>\n",
              "    </tr>\n",
              "    <tr>\n",
              "      <th>429</th>\n",
              "      <td>58</td>\n",
              "      <td>0.0</td>\n",
              "      <td>1.0</td>\n",
              "      <td>0.0</td>\n",
              "      <td>1.0</td>\n",
              "      <td>0.0</td>\n",
              "      <td>1.0</td>\n",
              "      <td>0.0</td>\n",
              "      <td>1.0</td>\n",
              "      <td>0.0</td>\n",
              "      <td>...</td>\n",
              "      <td>0.0</td>\n",
              "      <td>1.0</td>\n",
              "      <td>0.0</td>\n",
              "      <td>1.0</td>\n",
              "      <td>0.0</td>\n",
              "      <td>1.0</td>\n",
              "      <td>1.0</td>\n",
              "      <td>0.0</td>\n",
              "      <td>0.0</td>\n",
              "      <td>1.0</td>\n",
              "    </tr>\n",
              "    <tr>\n",
              "      <th>394</th>\n",
              "      <td>59</td>\n",
              "      <td>1.0</td>\n",
              "      <td>0.0</td>\n",
              "      <td>1.0</td>\n",
              "      <td>0.0</td>\n",
              "      <td>1.0</td>\n",
              "      <td>0.0</td>\n",
              "      <td>1.0</td>\n",
              "      <td>0.0</td>\n",
              "      <td>0.0</td>\n",
              "      <td>...</td>\n",
              "      <td>0.0</td>\n",
              "      <td>1.0</td>\n",
              "      <td>1.0</td>\n",
              "      <td>0.0</td>\n",
              "      <td>0.0</td>\n",
              "      <td>1.0</td>\n",
              "      <td>0.0</td>\n",
              "      <td>1.0</td>\n",
              "      <td>0.0</td>\n",
              "      <td>1.0</td>\n",
              "    </tr>\n",
              "    <tr>\n",
              "      <th>5</th>\n",
              "      <td>55</td>\n",
              "      <td>0.0</td>\n",
              "      <td>1.0</td>\n",
              "      <td>0.0</td>\n",
              "      <td>1.0</td>\n",
              "      <td>0.0</td>\n",
              "      <td>1.0</td>\n",
              "      <td>1.0</td>\n",
              "      <td>0.0</td>\n",
              "      <td>0.0</td>\n",
              "      <td>...</td>\n",
              "      <td>0.0</td>\n",
              "      <td>1.0</td>\n",
              "      <td>1.0</td>\n",
              "      <td>0.0</td>\n",
              "      <td>0.0</td>\n",
              "      <td>1.0</td>\n",
              "      <td>0.0</td>\n",
              "      <td>1.0</td>\n",
              "      <td>0.0</td>\n",
              "      <td>1.0</td>\n",
              "    </tr>\n",
              "    <tr>\n",
              "      <th>141</th>\n",
              "      <td>62</td>\n",
              "      <td>0.0</td>\n",
              "      <td>1.0</td>\n",
              "      <td>0.0</td>\n",
              "      <td>1.0</td>\n",
              "      <td>0.0</td>\n",
              "      <td>1.0</td>\n",
              "      <td>1.0</td>\n",
              "      <td>0.0</td>\n",
              "      <td>1.0</td>\n",
              "      <td>...</td>\n",
              "      <td>0.0</td>\n",
              "      <td>1.0</td>\n",
              "      <td>0.0</td>\n",
              "      <td>1.0</td>\n",
              "      <td>1.0</td>\n",
              "      <td>0.0</td>\n",
              "      <td>0.0</td>\n",
              "      <td>1.0</td>\n",
              "      <td>1.0</td>\n",
              "      <td>0.0</td>\n",
              "    </tr>\n",
              "  </tbody>\n",
              "</table>\n",
              "<p>5 rows × 31 columns</p>\n",
              "</div>\n",
              "      <button class=\"colab-df-convert\" onclick=\"convertToInteractive('df-4c163a13-0069-490a-81fd-b88d8bfb2c5e')\"\n",
              "              title=\"Convert this dataframe to an interactive table.\"\n",
              "              style=\"display:none;\">\n",
              "        \n",
              "  <svg xmlns=\"http://www.w3.org/2000/svg\" height=\"24px\"viewBox=\"0 0 24 24\"\n",
              "       width=\"24px\">\n",
              "    <path d=\"M0 0h24v24H0V0z\" fill=\"none\"/>\n",
              "    <path d=\"M18.56 5.44l.94 2.06.94-2.06 2.06-.94-2.06-.94-.94-2.06-.94 2.06-2.06.94zm-11 1L8.5 8.5l.94-2.06 2.06-.94-2.06-.94L8.5 2.5l-.94 2.06-2.06.94zm10 10l.94 2.06.94-2.06 2.06-.94-2.06-.94-.94-2.06-.94 2.06-2.06.94z\"/><path d=\"M17.41 7.96l-1.37-1.37c-.4-.4-.92-.59-1.43-.59-.52 0-1.04.2-1.43.59L10.3 9.45l-7.72 7.72c-.78.78-.78 2.05 0 2.83L4 21.41c.39.39.9.59 1.41.59.51 0 1.02-.2 1.41-.59l7.78-7.78 2.81-2.81c.8-.78.8-2.07 0-2.86zM5.41 20L4 18.59l7.72-7.72 1.47 1.35L5.41 20z\"/>\n",
              "  </svg>\n",
              "      </button>\n",
              "      \n",
              "  <style>\n",
              "    .colab-df-container {\n",
              "      display:flex;\n",
              "      flex-wrap:wrap;\n",
              "      gap: 12px;\n",
              "    }\n",
              "\n",
              "    .colab-df-convert {\n",
              "      background-color: #E8F0FE;\n",
              "      border: none;\n",
              "      border-radius: 50%;\n",
              "      cursor: pointer;\n",
              "      display: none;\n",
              "      fill: #1967D2;\n",
              "      height: 32px;\n",
              "      padding: 0 0 0 0;\n",
              "      width: 32px;\n",
              "    }\n",
              "\n",
              "    .colab-df-convert:hover {\n",
              "      background-color: #E2EBFA;\n",
              "      box-shadow: 0px 1px 2px rgba(60, 64, 67, 0.3), 0px 1px 3px 1px rgba(60, 64, 67, 0.15);\n",
              "      fill: #174EA6;\n",
              "    }\n",
              "\n",
              "    [theme=dark] .colab-df-convert {\n",
              "      background-color: #3B4455;\n",
              "      fill: #D2E3FC;\n",
              "    }\n",
              "\n",
              "    [theme=dark] .colab-df-convert:hover {\n",
              "      background-color: #434B5C;\n",
              "      box-shadow: 0px 1px 3px 1px rgba(0, 0, 0, 0.15);\n",
              "      filter: drop-shadow(0px 1px 2px rgba(0, 0, 0, 0.3));\n",
              "      fill: #FFFFFF;\n",
              "    }\n",
              "  </style>\n",
              "\n",
              "      <script>\n",
              "        const buttonEl =\n",
              "          document.querySelector('#df-4c163a13-0069-490a-81fd-b88d8bfb2c5e button.colab-df-convert');\n",
              "        buttonEl.style.display =\n",
              "          google.colab.kernel.accessAllowed ? 'block' : 'none';\n",
              "\n",
              "        async function convertToInteractive(key) {\n",
              "          const element = document.querySelector('#df-4c163a13-0069-490a-81fd-b88d8bfb2c5e');\n",
              "          const dataTable =\n",
              "            await google.colab.kernel.invokeFunction('convertToInteractive',\n",
              "                                                     [key], {});\n",
              "          if (!dataTable) return;\n",
              "\n",
              "          const docLinkHtml = 'Like what you see? Visit the ' +\n",
              "            '<a target=\"_blank\" href=https://colab.research.google.com/notebooks/data_table.ipynb>data table notebook</a>'\n",
              "            + ' to learn more about interactive tables.';\n",
              "          element.innerHTML = '';\n",
              "          dataTable['output_type'] = 'display_data';\n",
              "          await google.colab.output.renderOutput(dataTable, element);\n",
              "          const docLink = document.createElement('div');\n",
              "          docLink.innerHTML = docLinkHtml;\n",
              "          element.appendChild(docLink);\n",
              "        }\n",
              "      </script>\n",
              "    </div>\n",
              "  </div>\n",
              "  "
            ]
          },
          "metadata": {},
          "execution_count": 21
        }
      ]
    },
    {
      "cell_type": "code",
      "source": [
        "X_train.head()"
      ],
      "metadata": {
        "colab": {
          "base_uri": "https://localhost:8080/",
          "height": 267
        },
        "id": "ul6jiKSe9U1o",
        "outputId": "2099f507-06c6-470e-d579-f0d404c84c4f"
      },
      "execution_count": 22,
      "outputs": [
        {
          "output_type": "execute_result",
          "data": {
            "text/plain": [
              "     Age  Gender Polyuria Polydipsia sudden weight loss weakness Polyphagia  \\\n",
              "457   48  Female      Yes        Yes                Yes      Yes        Yes   \n",
              "429   58    Male      Yes        Yes                Yes      Yes        Yes   \n",
              "394   59  Female       No         No                 No      Yes         No   \n",
              "5     55    Male      Yes        Yes                 No      Yes        Yes   \n",
              "141   62    Male      Yes        Yes                 No       No        Yes   \n",
              "\n",
              "    Genital thrush visual blurring Itching Irritability delayed healing  \\\n",
              "457             No             Yes     Yes          Yes             Yes   \n",
              "429             No             Yes      No           No             Yes   \n",
              "394             No             Yes     Yes           No             Yes   \n",
              "5               No             Yes     Yes           No             Yes   \n",
              "141             No             Yes      No          Yes             Yes   \n",
              "\n",
              "    partial paresis muscle stiffness Alopecia Obesity  \n",
              "457             Yes              Yes       No      No  \n",
              "429             Yes              Yes       No     Yes  \n",
              "394              No              Yes      Yes     Yes  \n",
              "5                No              Yes      Yes     Yes  \n",
              "141             Yes               No      Yes      No  "
            ],
            "text/html": [
              "\n",
              "  <div id=\"df-a4814c12-4771-4cbc-aa1f-4d06280a4c8a\">\n",
              "    <div class=\"colab-df-container\">\n",
              "      <div>\n",
              "<style scoped>\n",
              "    .dataframe tbody tr th:only-of-type {\n",
              "        vertical-align: middle;\n",
              "    }\n",
              "\n",
              "    .dataframe tbody tr th {\n",
              "        vertical-align: top;\n",
              "    }\n",
              "\n",
              "    .dataframe thead th {\n",
              "        text-align: right;\n",
              "    }\n",
              "</style>\n",
              "<table border=\"1\" class=\"dataframe\">\n",
              "  <thead>\n",
              "    <tr style=\"text-align: right;\">\n",
              "      <th></th>\n",
              "      <th>Age</th>\n",
              "      <th>Gender</th>\n",
              "      <th>Polyuria</th>\n",
              "      <th>Polydipsia</th>\n",
              "      <th>sudden weight loss</th>\n",
              "      <th>weakness</th>\n",
              "      <th>Polyphagia</th>\n",
              "      <th>Genital thrush</th>\n",
              "      <th>visual blurring</th>\n",
              "      <th>Itching</th>\n",
              "      <th>Irritability</th>\n",
              "      <th>delayed healing</th>\n",
              "      <th>partial paresis</th>\n",
              "      <th>muscle stiffness</th>\n",
              "      <th>Alopecia</th>\n",
              "      <th>Obesity</th>\n",
              "    </tr>\n",
              "  </thead>\n",
              "  <tbody>\n",
              "    <tr>\n",
              "      <th>457</th>\n",
              "      <td>48</td>\n",
              "      <td>Female</td>\n",
              "      <td>Yes</td>\n",
              "      <td>Yes</td>\n",
              "      <td>Yes</td>\n",
              "      <td>Yes</td>\n",
              "      <td>Yes</td>\n",
              "      <td>No</td>\n",
              "      <td>Yes</td>\n",
              "      <td>Yes</td>\n",
              "      <td>Yes</td>\n",
              "      <td>Yes</td>\n",
              "      <td>Yes</td>\n",
              "      <td>Yes</td>\n",
              "      <td>No</td>\n",
              "      <td>No</td>\n",
              "    </tr>\n",
              "    <tr>\n",
              "      <th>429</th>\n",
              "      <td>58</td>\n",
              "      <td>Male</td>\n",
              "      <td>Yes</td>\n",
              "      <td>Yes</td>\n",
              "      <td>Yes</td>\n",
              "      <td>Yes</td>\n",
              "      <td>Yes</td>\n",
              "      <td>No</td>\n",
              "      <td>Yes</td>\n",
              "      <td>No</td>\n",
              "      <td>No</td>\n",
              "      <td>Yes</td>\n",
              "      <td>Yes</td>\n",
              "      <td>Yes</td>\n",
              "      <td>No</td>\n",
              "      <td>Yes</td>\n",
              "    </tr>\n",
              "    <tr>\n",
              "      <th>394</th>\n",
              "      <td>59</td>\n",
              "      <td>Female</td>\n",
              "      <td>No</td>\n",
              "      <td>No</td>\n",
              "      <td>No</td>\n",
              "      <td>Yes</td>\n",
              "      <td>No</td>\n",
              "      <td>No</td>\n",
              "      <td>Yes</td>\n",
              "      <td>Yes</td>\n",
              "      <td>No</td>\n",
              "      <td>Yes</td>\n",
              "      <td>No</td>\n",
              "      <td>Yes</td>\n",
              "      <td>Yes</td>\n",
              "      <td>Yes</td>\n",
              "    </tr>\n",
              "    <tr>\n",
              "      <th>5</th>\n",
              "      <td>55</td>\n",
              "      <td>Male</td>\n",
              "      <td>Yes</td>\n",
              "      <td>Yes</td>\n",
              "      <td>No</td>\n",
              "      <td>Yes</td>\n",
              "      <td>Yes</td>\n",
              "      <td>No</td>\n",
              "      <td>Yes</td>\n",
              "      <td>Yes</td>\n",
              "      <td>No</td>\n",
              "      <td>Yes</td>\n",
              "      <td>No</td>\n",
              "      <td>Yes</td>\n",
              "      <td>Yes</td>\n",
              "      <td>Yes</td>\n",
              "    </tr>\n",
              "    <tr>\n",
              "      <th>141</th>\n",
              "      <td>62</td>\n",
              "      <td>Male</td>\n",
              "      <td>Yes</td>\n",
              "      <td>Yes</td>\n",
              "      <td>No</td>\n",
              "      <td>No</td>\n",
              "      <td>Yes</td>\n",
              "      <td>No</td>\n",
              "      <td>Yes</td>\n",
              "      <td>No</td>\n",
              "      <td>Yes</td>\n",
              "      <td>Yes</td>\n",
              "      <td>Yes</td>\n",
              "      <td>No</td>\n",
              "      <td>Yes</td>\n",
              "      <td>No</td>\n",
              "    </tr>\n",
              "  </tbody>\n",
              "</table>\n",
              "</div>\n",
              "      <button class=\"colab-df-convert\" onclick=\"convertToInteractive('df-a4814c12-4771-4cbc-aa1f-4d06280a4c8a')\"\n",
              "              title=\"Convert this dataframe to an interactive table.\"\n",
              "              style=\"display:none;\">\n",
              "        \n",
              "  <svg xmlns=\"http://www.w3.org/2000/svg\" height=\"24px\"viewBox=\"0 0 24 24\"\n",
              "       width=\"24px\">\n",
              "    <path d=\"M0 0h24v24H0V0z\" fill=\"none\"/>\n",
              "    <path d=\"M18.56 5.44l.94 2.06.94-2.06 2.06-.94-2.06-.94-.94-2.06-.94 2.06-2.06.94zm-11 1L8.5 8.5l.94-2.06 2.06-.94-2.06-.94L8.5 2.5l-.94 2.06-2.06.94zm10 10l.94 2.06.94-2.06 2.06-.94-2.06-.94-.94-2.06-.94 2.06-2.06.94z\"/><path d=\"M17.41 7.96l-1.37-1.37c-.4-.4-.92-.59-1.43-.59-.52 0-1.04.2-1.43.59L10.3 9.45l-7.72 7.72c-.78.78-.78 2.05 0 2.83L4 21.41c.39.39.9.59 1.41.59.51 0 1.02-.2 1.41-.59l7.78-7.78 2.81-2.81c.8-.78.8-2.07 0-2.86zM5.41 20L4 18.59l7.72-7.72 1.47 1.35L5.41 20z\"/>\n",
              "  </svg>\n",
              "      </button>\n",
              "      \n",
              "  <style>\n",
              "    .colab-df-container {\n",
              "      display:flex;\n",
              "      flex-wrap:wrap;\n",
              "      gap: 12px;\n",
              "    }\n",
              "\n",
              "    .colab-df-convert {\n",
              "      background-color: #E8F0FE;\n",
              "      border: none;\n",
              "      border-radius: 50%;\n",
              "      cursor: pointer;\n",
              "      display: none;\n",
              "      fill: #1967D2;\n",
              "      height: 32px;\n",
              "      padding: 0 0 0 0;\n",
              "      width: 32px;\n",
              "    }\n",
              "\n",
              "    .colab-df-convert:hover {\n",
              "      background-color: #E2EBFA;\n",
              "      box-shadow: 0px 1px 2px rgba(60, 64, 67, 0.3), 0px 1px 3px 1px rgba(60, 64, 67, 0.15);\n",
              "      fill: #174EA6;\n",
              "    }\n",
              "\n",
              "    [theme=dark] .colab-df-convert {\n",
              "      background-color: #3B4455;\n",
              "      fill: #D2E3FC;\n",
              "    }\n",
              "\n",
              "    [theme=dark] .colab-df-convert:hover {\n",
              "      background-color: #434B5C;\n",
              "      box-shadow: 0px 1px 3px 1px rgba(0, 0, 0, 0.15);\n",
              "      filter: drop-shadow(0px 1px 2px rgba(0, 0, 0, 0.3));\n",
              "      fill: #FFFFFF;\n",
              "    }\n",
              "  </style>\n",
              "\n",
              "      <script>\n",
              "        const buttonEl =\n",
              "          document.querySelector('#df-a4814c12-4771-4cbc-aa1f-4d06280a4c8a button.colab-df-convert');\n",
              "        buttonEl.style.display =\n",
              "          google.colab.kernel.accessAllowed ? 'block' : 'none';\n",
              "\n",
              "        async function convertToInteractive(key) {\n",
              "          const element = document.querySelector('#df-a4814c12-4771-4cbc-aa1f-4d06280a4c8a');\n",
              "          const dataTable =\n",
              "            await google.colab.kernel.invokeFunction('convertToInteractive',\n",
              "                                                     [key], {});\n",
              "          if (!dataTable) return;\n",
              "\n",
              "          const docLinkHtml = 'Like what you see? Visit the ' +\n",
              "            '<a target=\"_blank\" href=https://colab.research.google.com/notebooks/data_table.ipynb>data table notebook</a>'\n",
              "            + ' to learn more about interactive tables.';\n",
              "          element.innerHTML = '';\n",
              "          dataTable['output_type'] = 'display_data';\n",
              "          await google.colab.output.renderOutput(dataTable, element);\n",
              "          const docLink = document.createElement('div');\n",
              "          docLink.innerHTML = docLinkHtml;\n",
              "          element.appendChild(docLink);\n",
              "        }\n",
              "      </script>\n",
              "    </div>\n",
              "  </div>\n",
              "  "
            ]
          },
          "metadata": {},
          "execution_count": 22
        }
      ]
    },
    {
      "cell_type": "code",
      "source": [
        "# Encode the target\n",
        "label_encoder = LabelEncoder()\n",
        "label_encoder.fit(y_train)\n",
        "y_train = label_encoder.transform(y_train)\n",
        "y_test = label_encoder.transform(y_test)"
      ],
      "metadata": {
        "id": "V55iJxCf9Wxg"
      },
      "execution_count": 23,
      "outputs": []
    },
    {
      "cell_type": "markdown",
      "metadata": {
        "id": "UDjulK0-mFpC"
      },
      "source": [
        "Let's start by implementing a Support Vector Machine (SVM) model which is a very popular algorithm used for binary classification problems. In the context of classification, an SVM is also known as a Support Vector Classifier (SVC) which is how we will refer to the model going forward. The SVC works by determining a separating hyperplane that maximizes the distance between the hyperplane and the nearest point in each class. The SVC is flexible in the sense that it can work for both linearly and non-linearly separable data by specifying the SVC's kernel. Using a non-linear kernel will create a classifier that is effective with non-linearly separable data. The non-linear kernel will map the data to a higher dimensional space for which the non-linearly separable data becomes linearly separable. "
      ]
    },
    {
      "cell_type": "markdown",
      "metadata": {
        "id": "6wLdiY0-mNbn"
      },
      "source": [
        "Scikit-learn's implementation of SVC accepts as input a 'kernel' hyperparameter. We'll test a couple of different kernels while leaving the other hyperparameters as their default values. "
      ]
    },
    {
      "cell_type": "code",
      "metadata": {
        "colab": {
          "base_uri": "https://localhost:8080/"
        },
        "id": "lt-Ur-cmtNio",
        "outputId": "7bea5e60-c1cc-4a7d-bf94-e285eb9da8d3"
      },
      "source": [
        "# Define SVC with linear kernel\n",
        "linear_SVC = SVC(kernel='linear')\n",
        "\n",
        "# Fit to the training data\n",
        "linear_SVC.fit(X_train_OH, y_train)\n",
        "\n",
        "# Predict on the test data\n",
        "y_pred_linear_kernel = linear_SVC.predict(X_test_OH)\n",
        "\n",
        "# Compute accuracy score\n",
        "print(f'Train Accuracy: {linear_SVC.score(X_train_OH, y_train)}')\n",
        "print(f'Test Accuracy: {linear_SVC.score(X_test_OH, y_test)}')\n",
        "print(f'-'*50)\n",
        "\n",
        "# Print confusion matrix\n",
        "print('Confusion Matrix:')\n",
        "print(confusion_matrix(y_test, y_pred_linear_kernel))\n",
        "print(f'-'*50)\n",
        "\n",
        "# Print classification report\n",
        "print('Classification Report:')\n",
        "print(classification_report(y_test, y_pred_linear_kernel))"
      ],
      "execution_count": 24,
      "outputs": [
        {
          "output_type": "stream",
          "name": "stdout",
          "text": [
            "Train Accuracy: 0.9340659340659341\n",
            "Test Accuracy: 0.9166666666666666\n",
            "--------------------------------------------------\n",
            "Confusion Matrix:\n",
            "[[55  7]\n",
            " [ 6 88]]\n",
            "--------------------------------------------------\n",
            "Classification Report:\n",
            "              precision    recall  f1-score   support\n",
            "\n",
            "           0       0.90      0.89      0.89        62\n",
            "           1       0.93      0.94      0.93        94\n",
            "\n",
            "    accuracy                           0.92       156\n",
            "   macro avg       0.91      0.91      0.91       156\n",
            "weighted avg       0.92      0.92      0.92       156\n",
            "\n"
          ]
        },
        {
          "output_type": "stream",
          "name": "stderr",
          "text": [
            "/usr/local/lib/python3.7/dist-packages/sklearn/utils/validation.py:1692: FutureWarning: Feature names only support names that are all strings. Got feature names with dtypes: ['int', 'str']. An error will be raised in 1.2.\n",
            "  FutureWarning,\n",
            "/usr/local/lib/python3.7/dist-packages/sklearn/utils/validation.py:1692: FutureWarning: Feature names only support names that are all strings. Got feature names with dtypes: ['int', 'str']. An error will be raised in 1.2.\n",
            "  FutureWarning,\n",
            "/usr/local/lib/python3.7/dist-packages/sklearn/utils/validation.py:1692: FutureWarning: Feature names only support names that are all strings. Got feature names with dtypes: ['int', 'str']. An error will be raised in 1.2.\n",
            "  FutureWarning,\n",
            "/usr/local/lib/python3.7/dist-packages/sklearn/utils/validation.py:1692: FutureWarning: Feature names only support names that are all strings. Got feature names with dtypes: ['int', 'str']. An error will be raised in 1.2.\n",
            "  FutureWarning,\n"
          ]
        }
      ]
    },
    {
      "cell_type": "code",
      "metadata": {
        "colab": {
          "base_uri": "https://localhost:8080/"
        },
        "id": "55qL4-PmvlSI",
        "outputId": "83428ff7-4f6b-4265-f80a-4f7dd8d2e568"
      },
      "source": [
        "# Define SVC with polynomial kernel\n",
        "poly_SVC = SVC(kernel='poly')\n",
        "\n",
        "# Fit to the training data\n",
        "poly_SVC.fit(X_train_OH, y_train)\n",
        "\n",
        "# Predict on the test data\n",
        "y_pred_poly_kernel = poly_SVC.predict(X_test_OH)\n",
        "\n",
        "# Compute accuracy score\n",
        "print(f'Train Accuracy: {poly_SVC.score(X_train_OH, y_train)}')\n",
        "print(f'Test Accuracy: {poly_SVC.score(X_test_OH, y_test)}')\n",
        "print(f'-'*50)\n",
        "\n",
        "# Print confusion matrix\n",
        "print('Confusion Matrix:')\n",
        "print(confusion_matrix(y_test, y_pred_poly_kernel))\n",
        "print(f'-'*50)\n",
        "\n",
        "# Print classification report\n",
        "print('Classification Report:')\n",
        "print(classification_report(y_test, y_pred_poly_kernel))"
      ],
      "execution_count": 25,
      "outputs": [
        {
          "output_type": "stream",
          "name": "stdout",
          "text": [
            "Train Accuracy: 0.6208791208791209\n",
            "Test Accuracy: 0.6217948717948718\n",
            "--------------------------------------------------\n",
            "Confusion Matrix:\n",
            "[[ 3 59]\n",
            " [ 0 94]]\n",
            "--------------------------------------------------\n",
            "Classification Report:\n",
            "              precision    recall  f1-score   support\n",
            "\n",
            "           0       1.00      0.05      0.09        62\n",
            "           1       0.61      1.00      0.76        94\n",
            "\n",
            "    accuracy                           0.62       156\n",
            "   macro avg       0.81      0.52      0.43       156\n",
            "weighted avg       0.77      0.62      0.50       156\n",
            "\n"
          ]
        },
        {
          "output_type": "stream",
          "name": "stderr",
          "text": [
            "/usr/local/lib/python3.7/dist-packages/sklearn/utils/validation.py:1692: FutureWarning: Feature names only support names that are all strings. Got feature names with dtypes: ['int', 'str']. An error will be raised in 1.2.\n",
            "  FutureWarning,\n",
            "/usr/local/lib/python3.7/dist-packages/sklearn/utils/validation.py:1692: FutureWarning: Feature names only support names that are all strings. Got feature names with dtypes: ['int', 'str']. An error will be raised in 1.2.\n",
            "  FutureWarning,\n",
            "/usr/local/lib/python3.7/dist-packages/sklearn/utils/validation.py:1692: FutureWarning: Feature names only support names that are all strings. Got feature names with dtypes: ['int', 'str']. An error will be raised in 1.2.\n",
            "  FutureWarning,\n",
            "/usr/local/lib/python3.7/dist-packages/sklearn/utils/validation.py:1692: FutureWarning: Feature names only support names that are all strings. Got feature names with dtypes: ['int', 'str']. An error will be raised in 1.2.\n",
            "  FutureWarning,\n"
          ]
        }
      ]
    },
    {
      "cell_type": "code",
      "metadata": {
        "colab": {
          "base_uri": "https://localhost:8080/"
        },
        "id": "vnYhx9LowuB8",
        "outputId": "0d776557-9bf4-424b-b2ee-488f91dac13a"
      },
      "source": [
        "# Define SVC with gaussian kernel\n",
        "rbf_SVC = SVC(kernel='rbf')\n",
        "\n",
        "# Fit to the training data\n",
        "rbf_SVC.fit(X_train_OH, y_train)\n",
        "\n",
        "# Predict on the test data\n",
        "y_pred_rbf_kernel = rbf_SVC.predict(X_test_OH)\n",
        "\n",
        "# Compute accuracy score\n",
        "print(f'Train Accuracy: {rbf_SVC.score(X_train_OH, y_train)}')\n",
        "print(f'Test Accuracy: {rbf_SVC.score(X_test_OH, y_test)}')\n",
        "print(f'-'*50)\n",
        "\n",
        "# Print confusion matrix\n",
        "print('Confusion Matrix:')\n",
        "print(confusion_matrix(y_test, y_pred_rbf_kernel))\n",
        "print(f'-'*50)\n",
        "\n",
        "# Print classification report\n",
        "print('Classification Report:')\n",
        "print(classification_report(y_test, y_pred_rbf_kernel))"
      ],
      "execution_count": 26,
      "outputs": [
        {
          "output_type": "stream",
          "name": "stdout",
          "text": [
            "Train Accuracy: 0.6208791208791209\n",
            "Test Accuracy: 0.6025641025641025\n",
            "--------------------------------------------------\n",
            "Confusion Matrix:\n",
            "[[ 0 62]\n",
            " [ 0 94]]\n",
            "--------------------------------------------------\n",
            "Classification Report:\n",
            "              precision    recall  f1-score   support\n",
            "\n",
            "           0       0.00      0.00      0.00        62\n",
            "           1       0.60      1.00      0.75        94\n",
            "\n",
            "    accuracy                           0.60       156\n",
            "   macro avg       0.30      0.50      0.38       156\n",
            "weighted avg       0.36      0.60      0.45       156\n",
            "\n"
          ]
        },
        {
          "output_type": "stream",
          "name": "stderr",
          "text": [
            "/usr/local/lib/python3.7/dist-packages/sklearn/utils/validation.py:1692: FutureWarning: Feature names only support names that are all strings. Got feature names with dtypes: ['int', 'str']. An error will be raised in 1.2.\n",
            "  FutureWarning,\n",
            "/usr/local/lib/python3.7/dist-packages/sklearn/utils/validation.py:1692: FutureWarning: Feature names only support names that are all strings. Got feature names with dtypes: ['int', 'str']. An error will be raised in 1.2.\n",
            "  FutureWarning,\n",
            "/usr/local/lib/python3.7/dist-packages/sklearn/utils/validation.py:1692: FutureWarning: Feature names only support names that are all strings. Got feature names with dtypes: ['int', 'str']. An error will be raised in 1.2.\n",
            "  FutureWarning,\n",
            "/usr/local/lib/python3.7/dist-packages/sklearn/utils/validation.py:1692: FutureWarning: Feature names only support names that are all strings. Got feature names with dtypes: ['int', 'str']. An error will be raised in 1.2.\n",
            "  FutureWarning,\n",
            "/usr/local/lib/python3.7/dist-packages/sklearn/metrics/_classification.py:1318: UndefinedMetricWarning: Precision and F-score are ill-defined and being set to 0.0 in labels with no predicted samples. Use `zero_division` parameter to control this behavior.\n",
            "  _warn_prf(average, modifier, msg_start, len(result))\n",
            "/usr/local/lib/python3.7/dist-packages/sklearn/metrics/_classification.py:1318: UndefinedMetricWarning: Precision and F-score are ill-defined and being set to 0.0 in labels with no predicted samples. Use `zero_division` parameter to control this behavior.\n",
            "  _warn_prf(average, modifier, msg_start, len(result))\n",
            "/usr/local/lib/python3.7/dist-packages/sklearn/metrics/_classification.py:1318: UndefinedMetricWarning: Precision and F-score are ill-defined and being set to 0.0 in labels with no predicted samples. Use `zero_division` parameter to control this behavior.\n",
            "  _warn_prf(average, modifier, msg_start, len(result))\n"
          ]
        }
      ]
    },
    {
      "cell_type": "code",
      "metadata": {
        "colab": {
          "base_uri": "https://localhost:8080/"
        },
        "id": "i6pbDqZDxZJp",
        "outputId": "7170e7d2-82a3-41e7-bcb9-b1a44cc3752d"
      },
      "source": [
        "# Define SVC with sigmoid kernel\n",
        "sigmoid_SVC = SVC(kernel='sigmoid')\n",
        "\n",
        "# Fit to the training data\n",
        "sigmoid_SVC.fit(X_train_OH, y_train)\n",
        "\n",
        "# Predict on the test data\n",
        "y_pred_sigmoid_kernel = sigmoid_SVC.predict(X_test_OH)\n",
        "\n",
        "# Compute accuracy score\n",
        "print(f'Train Accuracy: {sigmoid_SVC.score(X_train_OH, y_train)}')\n",
        "print(f'Test Accuracy: {sigmoid_SVC.score(X_test_OH, y_test)}')\n",
        "print(f'-'*50)\n",
        "\n",
        "# Print confusion matrix\n",
        "print('Confusion Matrix:')\n",
        "print(confusion_matrix(y_test, y_pred_sigmoid_kernel))\n",
        "print(f'-'*50)\n",
        "\n",
        "# Print classification report\n",
        "print('Classification Report:')\n",
        "print(classification_report(y_test, y_pred_sigmoid_kernel))"
      ],
      "execution_count": 27,
      "outputs": [
        {
          "output_type": "stream",
          "name": "stdout",
          "text": [
            "Train Accuracy: 0.5\n",
            "Test Accuracy: 0.5192307692307693\n",
            "--------------------------------------------------\n",
            "Confusion Matrix:\n",
            "[[20 42]\n",
            " [33 61]]\n",
            "--------------------------------------------------\n",
            "Classification Report:\n",
            "              precision    recall  f1-score   support\n",
            "\n",
            "           0       0.38      0.32      0.35        62\n",
            "           1       0.59      0.65      0.62        94\n",
            "\n",
            "    accuracy                           0.52       156\n",
            "   macro avg       0.48      0.49      0.48       156\n",
            "weighted avg       0.51      0.52      0.51       156\n",
            "\n"
          ]
        },
        {
          "output_type": "stream",
          "name": "stderr",
          "text": [
            "/usr/local/lib/python3.7/dist-packages/sklearn/utils/validation.py:1692: FutureWarning: Feature names only support names that are all strings. Got feature names with dtypes: ['int', 'str']. An error will be raised in 1.2.\n",
            "  FutureWarning,\n",
            "/usr/local/lib/python3.7/dist-packages/sklearn/utils/validation.py:1692: FutureWarning: Feature names only support names that are all strings. Got feature names with dtypes: ['int', 'str']. An error will be raised in 1.2.\n",
            "  FutureWarning,\n",
            "/usr/local/lib/python3.7/dist-packages/sklearn/utils/validation.py:1692: FutureWarning: Feature names only support names that are all strings. Got feature names with dtypes: ['int', 'str']. An error will be raised in 1.2.\n",
            "  FutureWarning,\n",
            "/usr/local/lib/python3.7/dist-packages/sklearn/utils/validation.py:1692: FutureWarning: Feature names only support names that are all strings. Got feature names with dtypes: ['int', 'str']. An error will be raised in 1.2.\n",
            "  FutureWarning,\n"
          ]
        }
      ]
    },
    {
      "cell_type": "markdown",
      "metadata": {
        "id": "2ZGHPTKAmVhe"
      },
      "source": [
        "While comparing these SVC models we'll be taking a look at a few metrics. \n",
        "\n",
        "First we look at the accuracy for each model. We see that the linear kernel results in the highest training and testing accuracies. However, since this is a classification problem it is not sufficient to simply look at accuracy. We also need to look at precision, recall and F1 score and it is helpful to see the confusion matrix to better understand the performance of the classifier. \n",
        "\n",
        "Looking at the confusion matrices we see that the gaussian SVC misclassifies all instances of class 0. We see this is reflected in the classification report as precision, recall and F1 score are all zero. The weighted average F1 score is also the lowest among all models (0.45). The polynomial SVC also performs poorly as it misclassifies 59/62 instances of class 0. We see a low recall and F1 score for class zero and a low weighted average F1 score (0.50). The sigmoid SVC shows a better confusion matrix in the sense that it misclassifies less instances of class 0 but it still has a significant number of misclassifications across both classes.It also shows a low accuracy and low weighted average F1 score (0.51). Finally, looking at the linear SVC we see a confusion matrix where only 7-8 instances of each class are misclassified. We see good precision and recall scores for each class, a high weighted average F1 score (0.92) and a high training and testing accuracy. \n",
        "\n",
        "Thus, for our first ML model we will choose the SVC with a linear kernel (named as 'linear_SVC').\n",
        "Later in this analysis, we will use this model to compare the performance of both of our models."
      ]
    },
    {
      "cell_type": "markdown",
      "metadata": {
        "id": "jBv8W7gnmxsa"
      },
      "source": [
        "Next we will implement our second model which will be a Gradient Boosting Classifier which is another popular algorithm used in classification problems. Gradient boosting is an ensemble technique that uses multiple weak models that combine to form a strong model. The idea is to train each weak model sequentially where each next model tries to correct the mistakes made by the previous model. "
      ]
    },
    {
      "cell_type": "markdown",
      "metadata": {
        "id": "5zqxxeO6nI1Y"
      },
      "source": [
        "Scikit-learn's GradientBoostingClassifier has several hyperparameters that can be tuned including learning rate, n_estimators, max_depth, and so on. For the purposes of this assignment we will not be hypertuning the algorithm (as per Part B, Question 5) since we will be using automated ML for that section. Instead, for this section we will focus only on learning rate and n_estimators to arrive at our second model. \n",
        "\n",
        "To begin with, we will focus on trying various learning rates while leaving the n_estimators as the default value (100). It should be noted that Gradient Boosting has a tendency for overfitting and this is directly related to the number of estimators being used (larger n_estimators = better performance but also leads to overfitting). This tendency for overfitting will be addressed momentarily in this analysis. "
      ]
    },
    {
      "cell_type": "code",
      "metadata": {
        "colab": {
          "base_uri": "https://localhost:8080/"
        },
        "id": "JDaqalNr9ntn",
        "outputId": "63fd20eb-526f-471e-f498-102c51130761"
      },
      "source": [
        "# Learning rate values to try\n",
        "learning_rates = [0.005, 0.01, 0.05, 0.1, 0.5, 0.75, 1.0]\n",
        "\n",
        "# Iterate over each learning rate\n",
        "for learning_rate in learning_rates:\n",
        "    gb_clf = GradientBoostingClassifier(learning_rate=learning_rate, random_state=0)\n",
        "    gb_clf.fit(X_train_OH, y_train)\n",
        "\n",
        "    y_pred_gb_clf = gb_clf.predict(X_test_OH)\n",
        "\n",
        "    # We will be using average F1 score as a metric to compare the performance of the models\n",
        "    precision, recall, F1, _ = precision_recall_fscore_support(y_test, y_pred_gb_clf, average='weighted')\n",
        "\n",
        "    print(\"Learning rate: \", learning_rate)\n",
        "    print(\"Training Accuracy: {0:.3f}\".format(gb_clf.score(X_train_OH, y_train)))\n",
        "    print(\"Testing Accuracy: {0:.3f}\".format(gb_clf.score(X_test_OH, y_test)))\n",
        "    print(\"Average F1 Score: {0:.3f}\".format(F1))\n",
        "    print('-'*50)"
      ],
      "execution_count": 28,
      "outputs": [
        {
          "output_type": "stream",
          "name": "stderr",
          "text": [
            "/usr/local/lib/python3.7/dist-packages/sklearn/utils/validation.py:1692: FutureWarning: Feature names only support names that are all strings. Got feature names with dtypes: ['int', 'str']. An error will be raised in 1.2.\n",
            "  FutureWarning,\n",
            "/usr/local/lib/python3.7/dist-packages/sklearn/utils/validation.py:1692: FutureWarning: Feature names only support names that are all strings. Got feature names with dtypes: ['int', 'str']. An error will be raised in 1.2.\n",
            "  FutureWarning,\n",
            "/usr/local/lib/python3.7/dist-packages/sklearn/utils/validation.py:1692: FutureWarning: Feature names only support names that are all strings. Got feature names with dtypes: ['int', 'str']. An error will be raised in 1.2.\n",
            "  FutureWarning,\n",
            "/usr/local/lib/python3.7/dist-packages/sklearn/utils/validation.py:1692: FutureWarning: Feature names only support names that are all strings. Got feature names with dtypes: ['int', 'str']. An error will be raised in 1.2.\n",
            "  FutureWarning,\n"
          ]
        },
        {
          "output_type": "stream",
          "name": "stdout",
          "text": [
            "Learning rate:  0.005\n",
            "Training Accuracy: 0.931\n",
            "Testing Accuracy: 0.910\n",
            "Average F1 Score: 0.910\n",
            "--------------------------------------------------\n"
          ]
        },
        {
          "output_type": "stream",
          "name": "stderr",
          "text": [
            "/usr/local/lib/python3.7/dist-packages/sklearn/utils/validation.py:1692: FutureWarning: Feature names only support names that are all strings. Got feature names with dtypes: ['int', 'str']. An error will be raised in 1.2.\n",
            "  FutureWarning,\n",
            "/usr/local/lib/python3.7/dist-packages/sklearn/utils/validation.py:1692: FutureWarning: Feature names only support names that are all strings. Got feature names with dtypes: ['int', 'str']. An error will be raised in 1.2.\n",
            "  FutureWarning,\n",
            "/usr/local/lib/python3.7/dist-packages/sklearn/utils/validation.py:1692: FutureWarning: Feature names only support names that are all strings. Got feature names with dtypes: ['int', 'str']. An error will be raised in 1.2.\n",
            "  FutureWarning,\n",
            "/usr/local/lib/python3.7/dist-packages/sklearn/utils/validation.py:1692: FutureWarning: Feature names only support names that are all strings. Got feature names with dtypes: ['int', 'str']. An error will be raised in 1.2.\n",
            "  FutureWarning,\n",
            "/usr/local/lib/python3.7/dist-packages/sklearn/utils/validation.py:1692: FutureWarning: Feature names only support names that are all strings. Got feature names with dtypes: ['int', 'str']. An error will be raised in 1.2.\n",
            "  FutureWarning,\n"
          ]
        },
        {
          "output_type": "stream",
          "name": "stdout",
          "text": [
            "Learning rate:  0.01\n",
            "Training Accuracy: 0.934\n",
            "Testing Accuracy: 0.917\n",
            "Average F1 Score: 0.916\n",
            "--------------------------------------------------\n"
          ]
        },
        {
          "output_type": "stream",
          "name": "stderr",
          "text": [
            "/usr/local/lib/python3.7/dist-packages/sklearn/utils/validation.py:1692: FutureWarning: Feature names only support names that are all strings. Got feature names with dtypes: ['int', 'str']. An error will be raised in 1.2.\n",
            "  FutureWarning,\n",
            "/usr/local/lib/python3.7/dist-packages/sklearn/utils/validation.py:1692: FutureWarning: Feature names only support names that are all strings. Got feature names with dtypes: ['int', 'str']. An error will be raised in 1.2.\n",
            "  FutureWarning,\n",
            "/usr/local/lib/python3.7/dist-packages/sklearn/utils/validation.py:1692: FutureWarning: Feature names only support names that are all strings. Got feature names with dtypes: ['int', 'str']. An error will be raised in 1.2.\n",
            "  FutureWarning,\n",
            "/usr/local/lib/python3.7/dist-packages/sklearn/utils/validation.py:1692: FutureWarning: Feature names only support names that are all strings. Got feature names with dtypes: ['int', 'str']. An error will be raised in 1.2.\n",
            "  FutureWarning,\n"
          ]
        },
        {
          "output_type": "stream",
          "name": "stdout",
          "text": [
            "Learning rate:  0.05\n",
            "Training Accuracy: 0.978\n",
            "Testing Accuracy: 0.949\n",
            "Average F1 Score: 0.949\n",
            "--------------------------------------------------\n"
          ]
        },
        {
          "output_type": "stream",
          "name": "stderr",
          "text": [
            "/usr/local/lib/python3.7/dist-packages/sklearn/utils/validation.py:1692: FutureWarning: Feature names only support names that are all strings. Got feature names with dtypes: ['int', 'str']. An error will be raised in 1.2.\n",
            "  FutureWarning,\n",
            "/usr/local/lib/python3.7/dist-packages/sklearn/utils/validation.py:1692: FutureWarning: Feature names only support names that are all strings. Got feature names with dtypes: ['int', 'str']. An error will be raised in 1.2.\n",
            "  FutureWarning,\n",
            "/usr/local/lib/python3.7/dist-packages/sklearn/utils/validation.py:1692: FutureWarning: Feature names only support names that are all strings. Got feature names with dtypes: ['int', 'str']. An error will be raised in 1.2.\n",
            "  FutureWarning,\n",
            "/usr/local/lib/python3.7/dist-packages/sklearn/utils/validation.py:1692: FutureWarning: Feature names only support names that are all strings. Got feature names with dtypes: ['int', 'str']. An error will be raised in 1.2.\n",
            "  FutureWarning,\n"
          ]
        },
        {
          "output_type": "stream",
          "name": "stdout",
          "text": [
            "Learning rate:  0.1\n",
            "Training Accuracy: 1.000\n",
            "Testing Accuracy: 0.974\n",
            "Average F1 Score: 0.974\n",
            "--------------------------------------------------\n"
          ]
        },
        {
          "output_type": "stream",
          "name": "stderr",
          "text": [
            "/usr/local/lib/python3.7/dist-packages/sklearn/utils/validation.py:1692: FutureWarning: Feature names only support names that are all strings. Got feature names with dtypes: ['int', 'str']. An error will be raised in 1.2.\n",
            "  FutureWarning,\n",
            "/usr/local/lib/python3.7/dist-packages/sklearn/utils/validation.py:1692: FutureWarning: Feature names only support names that are all strings. Got feature names with dtypes: ['int', 'str']. An error will be raised in 1.2.\n",
            "  FutureWarning,\n",
            "/usr/local/lib/python3.7/dist-packages/sklearn/utils/validation.py:1692: FutureWarning: Feature names only support names that are all strings. Got feature names with dtypes: ['int', 'str']. An error will be raised in 1.2.\n",
            "  FutureWarning,\n",
            "/usr/local/lib/python3.7/dist-packages/sklearn/utils/validation.py:1692: FutureWarning: Feature names only support names that are all strings. Got feature names with dtypes: ['int', 'str']. An error will be raised in 1.2.\n",
            "  FutureWarning,\n"
          ]
        },
        {
          "output_type": "stream",
          "name": "stdout",
          "text": [
            "Learning rate:  0.5\n",
            "Training Accuracy: 1.000\n",
            "Testing Accuracy: 0.981\n",
            "Average F1 Score: 0.981\n",
            "--------------------------------------------------\n"
          ]
        },
        {
          "output_type": "stream",
          "name": "stderr",
          "text": [
            "/usr/local/lib/python3.7/dist-packages/sklearn/utils/validation.py:1692: FutureWarning: Feature names only support names that are all strings. Got feature names with dtypes: ['int', 'str']. An error will be raised in 1.2.\n",
            "  FutureWarning,\n",
            "/usr/local/lib/python3.7/dist-packages/sklearn/utils/validation.py:1692: FutureWarning: Feature names only support names that are all strings. Got feature names with dtypes: ['int', 'str']. An error will be raised in 1.2.\n",
            "  FutureWarning,\n",
            "/usr/local/lib/python3.7/dist-packages/sklearn/utils/validation.py:1692: FutureWarning: Feature names only support names that are all strings. Got feature names with dtypes: ['int', 'str']. An error will be raised in 1.2.\n",
            "  FutureWarning,\n",
            "/usr/local/lib/python3.7/dist-packages/sklearn/utils/validation.py:1692: FutureWarning: Feature names only support names that are all strings. Got feature names with dtypes: ['int', 'str']. An error will be raised in 1.2.\n",
            "  FutureWarning,\n"
          ]
        },
        {
          "output_type": "stream",
          "name": "stdout",
          "text": [
            "Learning rate:  0.75\n",
            "Training Accuracy: 1.000\n",
            "Testing Accuracy: 0.981\n",
            "Average F1 Score: 0.981\n",
            "--------------------------------------------------\n",
            "Learning rate:  1.0\n",
            "Training Accuracy: 1.000\n",
            "Testing Accuracy: 0.981\n",
            "Average F1 Score: 0.981\n",
            "--------------------------------------------------\n"
          ]
        },
        {
          "output_type": "stream",
          "name": "stderr",
          "text": [
            "/usr/local/lib/python3.7/dist-packages/sklearn/utils/validation.py:1692: FutureWarning: Feature names only support names that are all strings. Got feature names with dtypes: ['int', 'str']. An error will be raised in 1.2.\n",
            "  FutureWarning,\n",
            "/usr/local/lib/python3.7/dist-packages/sklearn/utils/validation.py:1692: FutureWarning: Feature names only support names that are all strings. Got feature names with dtypes: ['int', 'str']. An error will be raised in 1.2.\n",
            "  FutureWarning,\n",
            "/usr/local/lib/python3.7/dist-packages/sklearn/utils/validation.py:1692: FutureWarning: Feature names only support names that are all strings. Got feature names with dtypes: ['int', 'str']. An error will be raised in 1.2.\n",
            "  FutureWarning,\n"
          ]
        }
      ]
    },
    {
      "cell_type": "markdown",
      "metadata": {
        "id": "bIjgpTkwnj_P"
      },
      "source": [
        "We see a bit of overfitting occuring in our models as they slightly outperform on the training data as compared to the testing data. We'll attempt to deal with this momentarily by changing the n_estimators hyperparameter. For now, let's compare the testing accuracy and average F1 scores of these models. \n",
        "We see the highest testing accuracy and average F1 score when our learning rate is 1.0 (and when lr=0.5 but we'll go with 1.0 for this analysis). Let's now try changing the number of estimators. "
      ]
    },
    {
      "cell_type": "code",
      "metadata": {
        "colab": {
          "base_uri": "https://localhost:8080/"
        },
        "id": "xE9KGI6Z9nWB",
        "outputId": "fd858c83-1a54-4d9c-b742-945448e86fa9"
      },
      "source": [
        "# Learning rate values to try\n",
        "n_estimators = [1, 2, 5, 7, 10, 12, 15, 17 ,20, 22, 25, 100]\n",
        "\n",
        "# Iterate over each learning rate\n",
        "for n_estimator in n_estimators:\n",
        "    gb_clf = GradientBoostingClassifier(learning_rate=1.0, n_estimators=n_estimator, random_state=0)\n",
        "    gb_clf.fit(X_train_OH, y_train)\n",
        "\n",
        "    y_pred_gb_clf = gb_clf.predict(X_test_OH)\n",
        "\n",
        "    # We will be using average F1 score as a metric to compare the performance of the models\n",
        "    precision, recall, F1, _ = precision_recall_fscore_support(y_test, y_pred_gb_clf, average='weighted')\n",
        "\n",
        "    print(\"# of estimators: \", n_estimator)\n",
        "    print(\"Training Accuracy: {0:.3f}\".format(gb_clf.score(X_train_OH, y_train)))\n",
        "    print(\"Testing Accuracy: {0:.3f}\".format(gb_clf.score(X_test_OH, y_test)))\n",
        "    print(\"Average F1 Score: {0:.3f}\".format(F1))\n",
        "    print('-'*50)"
      ],
      "execution_count": 29,
      "outputs": [
        {
          "output_type": "stream",
          "name": "stderr",
          "text": [
            "/usr/local/lib/python3.7/dist-packages/sklearn/utils/validation.py:1692: FutureWarning: Feature names only support names that are all strings. Got feature names with dtypes: ['int', 'str']. An error will be raised in 1.2.\n",
            "  FutureWarning,\n",
            "/usr/local/lib/python3.7/dist-packages/sklearn/utils/validation.py:1692: FutureWarning: Feature names only support names that are all strings. Got feature names with dtypes: ['int', 'str']. An error will be raised in 1.2.\n",
            "  FutureWarning,\n",
            "/usr/local/lib/python3.7/dist-packages/sklearn/utils/validation.py:1692: FutureWarning: Feature names only support names that are all strings. Got feature names with dtypes: ['int', 'str']. An error will be raised in 1.2.\n",
            "  FutureWarning,\n",
            "/usr/local/lib/python3.7/dist-packages/sklearn/utils/validation.py:1692: FutureWarning: Feature names only support names that are all strings. Got feature names with dtypes: ['int', 'str']. An error will be raised in 1.2.\n",
            "  FutureWarning,\n",
            "/usr/local/lib/python3.7/dist-packages/sklearn/utils/validation.py:1692: FutureWarning: Feature names only support names that are all strings. Got feature names with dtypes: ['int', 'str']. An error will be raised in 1.2.\n",
            "  FutureWarning,\n",
            "/usr/local/lib/python3.7/dist-packages/sklearn/utils/validation.py:1692: FutureWarning: Feature names only support names that are all strings. Got feature names with dtypes: ['int', 'str']. An error will be raised in 1.2.\n",
            "  FutureWarning,\n",
            "/usr/local/lib/python3.7/dist-packages/sklearn/utils/validation.py:1692: FutureWarning: Feature names only support names that are all strings. Got feature names with dtypes: ['int', 'str']. An error will be raised in 1.2.\n",
            "  FutureWarning,\n",
            "/usr/local/lib/python3.7/dist-packages/sklearn/utils/validation.py:1692: FutureWarning: Feature names only support names that are all strings. Got feature names with dtypes: ['int', 'str']. An error will be raised in 1.2.\n",
            "  FutureWarning,\n",
            "/usr/local/lib/python3.7/dist-packages/sklearn/utils/validation.py:1692: FutureWarning: Feature names only support names that are all strings. Got feature names with dtypes: ['int', 'str']. An error will be raised in 1.2.\n",
            "  FutureWarning,\n"
          ]
        },
        {
          "output_type": "stream",
          "name": "stdout",
          "text": [
            "# of estimators:  1\n",
            "Training Accuracy: 0.931\n",
            "Testing Accuracy: 0.910\n",
            "Average F1 Score: 0.910\n",
            "--------------------------------------------------\n",
            "# of estimators:  2\n",
            "Training Accuracy: 0.948\n",
            "Testing Accuracy: 0.917\n",
            "Average F1 Score: 0.916\n",
            "--------------------------------------------------\n"
          ]
        },
        {
          "output_type": "stream",
          "name": "stderr",
          "text": [
            "/usr/local/lib/python3.7/dist-packages/sklearn/utils/validation.py:1692: FutureWarning: Feature names only support names that are all strings. Got feature names with dtypes: ['int', 'str']. An error will be raised in 1.2.\n",
            "  FutureWarning,\n",
            "/usr/local/lib/python3.7/dist-packages/sklearn/utils/validation.py:1692: FutureWarning: Feature names only support names that are all strings. Got feature names with dtypes: ['int', 'str']. An error will be raised in 1.2.\n",
            "  FutureWarning,\n",
            "/usr/local/lib/python3.7/dist-packages/sklearn/utils/validation.py:1692: FutureWarning: Feature names only support names that are all strings. Got feature names with dtypes: ['int', 'str']. An error will be raised in 1.2.\n",
            "  FutureWarning,\n",
            "/usr/local/lib/python3.7/dist-packages/sklearn/utils/validation.py:1692: FutureWarning: Feature names only support names that are all strings. Got feature names with dtypes: ['int', 'str']. An error will be raised in 1.2.\n",
            "  FutureWarning,\n",
            "/usr/local/lib/python3.7/dist-packages/sklearn/utils/validation.py:1692: FutureWarning: Feature names only support names that are all strings. Got feature names with dtypes: ['int', 'str']. An error will be raised in 1.2.\n",
            "  FutureWarning,\n",
            "/usr/local/lib/python3.7/dist-packages/sklearn/utils/validation.py:1692: FutureWarning: Feature names only support names that are all strings. Got feature names with dtypes: ['int', 'str']. An error will be raised in 1.2.\n",
            "  FutureWarning,\n",
            "/usr/local/lib/python3.7/dist-packages/sklearn/utils/validation.py:1692: FutureWarning: Feature names only support names that are all strings. Got feature names with dtypes: ['int', 'str']. An error will be raised in 1.2.\n",
            "  FutureWarning,\n",
            "/usr/local/lib/python3.7/dist-packages/sklearn/utils/validation.py:1692: FutureWarning: Feature names only support names that are all strings. Got feature names with dtypes: ['int', 'str']. An error will be raised in 1.2.\n",
            "  FutureWarning,\n",
            "/usr/local/lib/python3.7/dist-packages/sklearn/utils/validation.py:1692: FutureWarning: Feature names only support names that are all strings. Got feature names with dtypes: ['int', 'str']. An error will be raised in 1.2.\n",
            "  FutureWarning,\n",
            "/usr/local/lib/python3.7/dist-packages/sklearn/utils/validation.py:1692: FutureWarning: Feature names only support names that are all strings. Got feature names with dtypes: ['int', 'str']. An error will be raised in 1.2.\n",
            "  FutureWarning,\n",
            "/usr/local/lib/python3.7/dist-packages/sklearn/utils/validation.py:1692: FutureWarning: Feature names only support names that are all strings. Got feature names with dtypes: ['int', 'str']. An error will be raised in 1.2.\n",
            "  FutureWarning,\n",
            "/usr/local/lib/python3.7/dist-packages/sklearn/utils/validation.py:1692: FutureWarning: Feature names only support names that are all strings. Got feature names with dtypes: ['int', 'str']. An error will be raised in 1.2.\n",
            "  FutureWarning,\n",
            "/usr/local/lib/python3.7/dist-packages/sklearn/utils/validation.py:1692: FutureWarning: Feature names only support names that are all strings. Got feature names with dtypes: ['int', 'str']. An error will be raised in 1.2.\n",
            "  FutureWarning,\n",
            "/usr/local/lib/python3.7/dist-packages/sklearn/utils/validation.py:1692: FutureWarning: Feature names only support names that are all strings. Got feature names with dtypes: ['int', 'str']. An error will be raised in 1.2.\n",
            "  FutureWarning,\n",
            "/usr/local/lib/python3.7/dist-packages/sklearn/utils/validation.py:1692: FutureWarning: Feature names only support names that are all strings. Got feature names with dtypes: ['int', 'str']. An error will be raised in 1.2.\n",
            "  FutureWarning,\n",
            "/usr/local/lib/python3.7/dist-packages/sklearn/utils/validation.py:1692: FutureWarning: Feature names only support names that are all strings. Got feature names with dtypes: ['int', 'str']. An error will be raised in 1.2.\n",
            "  FutureWarning,\n"
          ]
        },
        {
          "output_type": "stream",
          "name": "stdout",
          "text": [
            "# of estimators:  5\n",
            "Training Accuracy: 0.984\n",
            "Testing Accuracy: 0.968\n",
            "Average F1 Score: 0.968\n",
            "--------------------------------------------------\n",
            "# of estimators:  7\n",
            "Training Accuracy: 0.992\n",
            "Testing Accuracy: 0.968\n",
            "Average F1 Score: 0.968\n",
            "--------------------------------------------------\n",
            "# of estimators:  10\n",
            "Training Accuracy: 0.997\n",
            "Testing Accuracy: 0.981\n",
            "Average F1 Score: 0.981\n",
            "--------------------------------------------------\n",
            "# of estimators:  12\n",
            "Training Accuracy: 1.000\n",
            "Testing Accuracy: 0.981\n",
            "Average F1 Score: 0.981\n",
            "--------------------------------------------------\n"
          ]
        },
        {
          "output_type": "stream",
          "name": "stderr",
          "text": [
            "/usr/local/lib/python3.7/dist-packages/sklearn/utils/validation.py:1692: FutureWarning: Feature names only support names that are all strings. Got feature names with dtypes: ['int', 'str']. An error will be raised in 1.2.\n",
            "  FutureWarning,\n",
            "/usr/local/lib/python3.7/dist-packages/sklearn/utils/validation.py:1692: FutureWarning: Feature names only support names that are all strings. Got feature names with dtypes: ['int', 'str']. An error will be raised in 1.2.\n",
            "  FutureWarning,\n",
            "/usr/local/lib/python3.7/dist-packages/sklearn/utils/validation.py:1692: FutureWarning: Feature names only support names that are all strings. Got feature names with dtypes: ['int', 'str']. An error will be raised in 1.2.\n",
            "  FutureWarning,\n",
            "/usr/local/lib/python3.7/dist-packages/sklearn/utils/validation.py:1692: FutureWarning: Feature names only support names that are all strings. Got feature names with dtypes: ['int', 'str']. An error will be raised in 1.2.\n",
            "  FutureWarning,\n"
          ]
        },
        {
          "output_type": "stream",
          "name": "stdout",
          "text": [
            "# of estimators:  15\n",
            "Training Accuracy: 1.000\n",
            "Testing Accuracy: 0.981\n",
            "Average F1 Score: 0.981\n",
            "--------------------------------------------------\n"
          ]
        },
        {
          "output_type": "stream",
          "name": "stderr",
          "text": [
            "/usr/local/lib/python3.7/dist-packages/sklearn/utils/validation.py:1692: FutureWarning: Feature names only support names that are all strings. Got feature names with dtypes: ['int', 'str']. An error will be raised in 1.2.\n",
            "  FutureWarning,\n",
            "/usr/local/lib/python3.7/dist-packages/sklearn/utils/validation.py:1692: FutureWarning: Feature names only support names that are all strings. Got feature names with dtypes: ['int', 'str']. An error will be raised in 1.2.\n",
            "  FutureWarning,\n",
            "/usr/local/lib/python3.7/dist-packages/sklearn/utils/validation.py:1692: FutureWarning: Feature names only support names that are all strings. Got feature names with dtypes: ['int', 'str']. An error will be raised in 1.2.\n",
            "  FutureWarning,\n",
            "/usr/local/lib/python3.7/dist-packages/sklearn/utils/validation.py:1692: FutureWarning: Feature names only support names that are all strings. Got feature names with dtypes: ['int', 'str']. An error will be raised in 1.2.\n",
            "  FutureWarning,\n",
            "/usr/local/lib/python3.7/dist-packages/sklearn/utils/validation.py:1692: FutureWarning: Feature names only support names that are all strings. Got feature names with dtypes: ['int', 'str']. An error will be raised in 1.2.\n",
            "  FutureWarning,\n",
            "/usr/local/lib/python3.7/dist-packages/sklearn/utils/validation.py:1692: FutureWarning: Feature names only support names that are all strings. Got feature names with dtypes: ['int', 'str']. An error will be raised in 1.2.\n",
            "  FutureWarning,\n"
          ]
        },
        {
          "output_type": "stream",
          "name": "stdout",
          "text": [
            "# of estimators:  17\n",
            "Training Accuracy: 1.000\n",
            "Testing Accuracy: 0.981\n",
            "Average F1 Score: 0.981\n",
            "--------------------------------------------------\n",
            "# of estimators:  20\n"
          ]
        },
        {
          "output_type": "stream",
          "name": "stderr",
          "text": [
            "/usr/local/lib/python3.7/dist-packages/sklearn/utils/validation.py:1692: FutureWarning: Feature names only support names that are all strings. Got feature names with dtypes: ['int', 'str']. An error will be raised in 1.2.\n",
            "  FutureWarning,\n",
            "/usr/local/lib/python3.7/dist-packages/sklearn/utils/validation.py:1692: FutureWarning: Feature names only support names that are all strings. Got feature names with dtypes: ['int', 'str']. An error will be raised in 1.2.\n",
            "  FutureWarning,\n",
            "/usr/local/lib/python3.7/dist-packages/sklearn/utils/validation.py:1692: FutureWarning: Feature names only support names that are all strings. Got feature names with dtypes: ['int', 'str']. An error will be raised in 1.2.\n",
            "  FutureWarning,\n",
            "/usr/local/lib/python3.7/dist-packages/sklearn/utils/validation.py:1692: FutureWarning: Feature names only support names that are all strings. Got feature names with dtypes: ['int', 'str']. An error will be raised in 1.2.\n",
            "  FutureWarning,\n",
            "/usr/local/lib/python3.7/dist-packages/sklearn/utils/validation.py:1692: FutureWarning: Feature names only support names that are all strings. Got feature names with dtypes: ['int', 'str']. An error will be raised in 1.2.\n",
            "  FutureWarning,\n",
            "/usr/local/lib/python3.7/dist-packages/sklearn/utils/validation.py:1692: FutureWarning: Feature names only support names that are all strings. Got feature names with dtypes: ['int', 'str']. An error will be raised in 1.2.\n",
            "  FutureWarning,\n",
            "/usr/local/lib/python3.7/dist-packages/sklearn/utils/validation.py:1692: FutureWarning: Feature names only support names that are all strings. Got feature names with dtypes: ['int', 'str']. An error will be raised in 1.2.\n",
            "  FutureWarning,\n",
            "/usr/local/lib/python3.7/dist-packages/sklearn/utils/validation.py:1692: FutureWarning: Feature names only support names that are all strings. Got feature names with dtypes: ['int', 'str']. An error will be raised in 1.2.\n",
            "  FutureWarning,\n",
            "/usr/local/lib/python3.7/dist-packages/sklearn/utils/validation.py:1692: FutureWarning: Feature names only support names that are all strings. Got feature names with dtypes: ['int', 'str']. An error will be raised in 1.2.\n",
            "  FutureWarning,\n",
            "/usr/local/lib/python3.7/dist-packages/sklearn/utils/validation.py:1692: FutureWarning: Feature names only support names that are all strings. Got feature names with dtypes: ['int', 'str']. An error will be raised in 1.2.\n",
            "  FutureWarning,\n"
          ]
        },
        {
          "output_type": "stream",
          "name": "stdout",
          "text": [
            "Training Accuracy: 1.000\n",
            "Testing Accuracy: 0.987\n",
            "Average F1 Score: 0.987\n",
            "--------------------------------------------------\n",
            "# of estimators:  22\n",
            "Training Accuracy: 1.000\n",
            "Testing Accuracy: 0.981\n",
            "Average F1 Score: 0.981\n",
            "--------------------------------------------------\n",
            "# of estimators:  25\n",
            "Training Accuracy: 1.000\n",
            "Testing Accuracy: 0.981\n",
            "Average F1 Score: 0.981\n",
            "--------------------------------------------------\n"
          ]
        },
        {
          "output_type": "stream",
          "name": "stderr",
          "text": [
            "/usr/local/lib/python3.7/dist-packages/sklearn/utils/validation.py:1692: FutureWarning: Feature names only support names that are all strings. Got feature names with dtypes: ['int', 'str']. An error will be raised in 1.2.\n",
            "  FutureWarning,\n",
            "/usr/local/lib/python3.7/dist-packages/sklearn/utils/validation.py:1692: FutureWarning: Feature names only support names that are all strings. Got feature names with dtypes: ['int', 'str']. An error will be raised in 1.2.\n",
            "  FutureWarning,\n",
            "/usr/local/lib/python3.7/dist-packages/sklearn/utils/validation.py:1692: FutureWarning: Feature names only support names that are all strings. Got feature names with dtypes: ['int', 'str']. An error will be raised in 1.2.\n",
            "  FutureWarning,\n"
          ]
        },
        {
          "output_type": "stream",
          "name": "stdout",
          "text": [
            "# of estimators:  100\n",
            "Training Accuracy: 1.000\n",
            "Testing Accuracy: 0.981\n",
            "Average F1 Score: 0.981\n",
            "--------------------------------------------------\n"
          ]
        }
      ]
    },
    {
      "cell_type": "markdown",
      "metadata": {
        "id": "uj8TzIQ6nvcb"
      },
      "source": [
        "We were able to close the generalization gap a bit by decreasing the number of estimators from 100 (the default) to 20. The performance of this model could be further improved by hypertuning all of the hyperparameters (outside the scope of this analysis as mentioned above). "
      ]
    },
    {
      "cell_type": "markdown",
      "metadata": {
        "id": "q85sNL8jn1-r"
      },
      "source": [
        "Thus, for our second ML model we will choose the GradientBoostingClassifier with 20 estimators and a learning rate of 1.0:"
      ]
    },
    {
      "cell_type": "code",
      "metadata": {
        "id": "nDsMq7uWIWNc",
        "colab": {
          "base_uri": "https://localhost:8080/"
        },
        "outputId": "456668a5-69be-40c6-9913-881163952427"
      },
      "source": [
        "gb_clf = GradientBoostingClassifier(learning_rate=1.0, n_estimators=20, random_state=0)\n",
        "gb_clf.fit(X_train_OH, y_train)\n",
        "y_pred_gb_clf = gb_clf.predict(X_test_OH)"
      ],
      "execution_count": 30,
      "outputs": [
        {
          "output_type": "stream",
          "name": "stderr",
          "text": [
            "/usr/local/lib/python3.7/dist-packages/sklearn/utils/validation.py:1692: FutureWarning: Feature names only support names that are all strings. Got feature names with dtypes: ['int', 'str']. An error will be raised in 1.2.\n",
            "  FutureWarning,\n",
            "/usr/local/lib/python3.7/dist-packages/sklearn/utils/validation.py:1692: FutureWarning: Feature names only support names that are all strings. Got feature names with dtypes: ['int', 'str']. An error will be raised in 1.2.\n",
            "  FutureWarning,\n"
          ]
        }
      ]
    },
    {
      "cell_type": "markdown",
      "metadata": {
        "id": "4GF3P3g7n8vK"
      },
      "source": [
        "Finally we will compare our models using the same metrics we've been using throughout this analysis:"
      ]
    },
    {
      "cell_type": "code",
      "metadata": {
        "colab": {
          "base_uri": "https://localhost:8080/"
        },
        "id": "czvMPk9YI2JL",
        "outputId": "9d278bfe-3d01-404c-b0ff-0743495de55c"
      },
      "source": [
        "print('MODEL 1: SVC with Linear Kernel')\n",
        "\n",
        "# Compute accuracy score\n",
        "print(f'Train Accuracy: {linear_SVC.score(X_train_OH, y_train)}')\n",
        "print(f'Test Accuracy: {linear_SVC.score(X_test_OH, y_test)}')\n",
        "print(f'-'*50)\n",
        "\n",
        "# Print confusion matrix\n",
        "print('Confusion Matrix:')\n",
        "print(confusion_matrix(y_test, y_pred_linear_kernel))\n",
        "print(f'-'*50)\n",
        "\n",
        "# Print classification report\n",
        "print('Classification Report:')\n",
        "print(classification_report(y_test, y_pred_linear_kernel))"
      ],
      "execution_count": 31,
      "outputs": [
        {
          "output_type": "stream",
          "name": "stdout",
          "text": [
            "MODEL 1: SVC with Linear Kernel\n",
            "Train Accuracy: 0.9340659340659341\n",
            "Test Accuracy: 0.9166666666666666\n",
            "--------------------------------------------------\n",
            "Confusion Matrix:\n",
            "[[55  7]\n",
            " [ 6 88]]\n",
            "--------------------------------------------------\n",
            "Classification Report:\n",
            "              precision    recall  f1-score   support\n",
            "\n",
            "           0       0.90      0.89      0.89        62\n",
            "           1       0.93      0.94      0.93        94\n",
            "\n",
            "    accuracy                           0.92       156\n",
            "   macro avg       0.91      0.91      0.91       156\n",
            "weighted avg       0.92      0.92      0.92       156\n",
            "\n"
          ]
        },
        {
          "output_type": "stream",
          "name": "stderr",
          "text": [
            "/usr/local/lib/python3.7/dist-packages/sklearn/utils/validation.py:1692: FutureWarning: Feature names only support names that are all strings. Got feature names with dtypes: ['int', 'str']. An error will be raised in 1.2.\n",
            "  FutureWarning,\n",
            "/usr/local/lib/python3.7/dist-packages/sklearn/utils/validation.py:1692: FutureWarning: Feature names only support names that are all strings. Got feature names with dtypes: ['int', 'str']. An error will be raised in 1.2.\n",
            "  FutureWarning,\n"
          ]
        }
      ]
    },
    {
      "cell_type": "code",
      "metadata": {
        "colab": {
          "base_uri": "https://localhost:8080/"
        },
        "id": "h00URJu6I_pC",
        "outputId": "aaa02d8f-232a-4c9f-8077-1a8c952d0d56"
      },
      "source": [
        "print('MODEL 2: Gradient Boosting Classifier')\n",
        "\n",
        "# Compute accuracy score\n",
        "print(f'Train Accuracy: {gb_clf.score(X_train_OH, y_train)}')\n",
        "print(f'Test Accuracy: {gb_clf.score(X_test_OH, y_test)}')\n",
        "print(f'-'*50)\n",
        "\n",
        "# Print confusion matrix\n",
        "print('Confusion Matrix:')\n",
        "print(confusion_matrix(y_test, y_pred_gb_clf))\n",
        "print(f'-'*50)\n",
        "\n",
        "# Print classification report\n",
        "print('Classification Report:')\n",
        "print(classification_report(y_test, y_pred_gb_clf))"
      ],
      "execution_count": 32,
      "outputs": [
        {
          "output_type": "stream",
          "name": "stdout",
          "text": [
            "MODEL 2: Gradient Boosting Classifier\n",
            "Train Accuracy: 1.0\n",
            "Test Accuracy: 0.9871794871794872\n",
            "--------------------------------------------------\n",
            "Confusion Matrix:\n",
            "[[62  0]\n",
            " [ 2 92]]\n",
            "--------------------------------------------------\n",
            "Classification Report:\n",
            "              precision    recall  f1-score   support\n",
            "\n",
            "           0       0.97      1.00      0.98        62\n",
            "           1       1.00      0.98      0.99        94\n",
            "\n",
            "    accuracy                           0.99       156\n",
            "   macro avg       0.98      0.99      0.99       156\n",
            "weighted avg       0.99      0.99      0.99       156\n",
            "\n"
          ]
        },
        {
          "output_type": "stream",
          "name": "stderr",
          "text": [
            "/usr/local/lib/python3.7/dist-packages/sklearn/utils/validation.py:1692: FutureWarning: Feature names only support names that are all strings. Got feature names with dtypes: ['int', 'str']. An error will be raised in 1.2.\n",
            "  FutureWarning,\n",
            "/usr/local/lib/python3.7/dist-packages/sklearn/utils/validation.py:1692: FutureWarning: Feature names only support names that are all strings. Got feature names with dtypes: ['int', 'str']. An error will be raised in 1.2.\n",
            "  FutureWarning,\n"
          ]
        }
      ]
    },
    {
      "cell_type": "markdown",
      "metadata": {
        "id": "aG3pDYB7oBjG"
      },
      "source": [
        "We see the best training and testing accuracy with the gradient boosting classifier as compared to the SVC. Looking at the confusion matrix we see better performance with the gradient boosting classifier as it has less misclassifications than the SVC. Finally looking at the classification report we see better precision, recall and F1 score in the gradient boosting classifier. "
      ]
    }
  ]
}